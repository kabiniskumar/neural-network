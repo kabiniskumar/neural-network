{
  "nbformat": 4,
  "nbformat_minor": 0,
  "metadata": {
    "kernelspec": {
      "display_name": "Python 3",
      "language": "python",
      "name": "python3"
    },
    "language_info": {
      "codemirror_mode": {
        "name": "ipython",
        "version": 3
      },
      "file_extension": ".py",
      "mimetype": "text/x-python",
      "name": "python",
      "nbconvert_exporter": "python",
      "pygments_lexer": "ipython3",
      "version": "3.7.3"
    },
    "colab": {
      "name": "Multi_Layer_Neural_Network.ipynb",
      "provenance": [],
      "collapsed_sections": [
        "ILOIhkfX5XJU",
        "wNLGe71o5XJV",
        "TryPMZxQ5XJV",
        "n25CDBxh5XJd",
        "797bmQEi5XJd",
        "ogzoG0C15XJh",
        "mPAF-kPM5XJl",
        "cnVgrQp05XJp",
        "y63PGwtA5XJu",
        "2tkpcCR_5XJx",
        "Y82Hqra15XJ1",
        "V2PiRuHc5XJ-",
        "o3BeAIot5XJ-",
        "mpMBY2Pv5XJ_",
        "rxzFIWJo5XKB",
        "beYzFBX55XKD",
        "C5fn4zXx5XKH",
        "Mg3nhQc-5XKM",
        "-nefLLKy5XKP",
        "lOJvdgzR5XKT",
        "_6xeDK-G5XKa",
        "cakKuqdN5XKc",
        "q1eMZG8N5XKh",
        "pMTsErTn5XKi"
      ]
    }
  },
  "cells": [
    {
      "cell_type": "markdown",
      "metadata": {
        "id": "mAtTU3Eh5XI0",
        "colab_type": "text"
      },
      "source": [
        "Before you turn this problem in, make sure everything runs as expected. First, **restart the kernel** (in the menubar, select Kernel$\\rightarrow$Restart) and then **run all cells** (in the menubar, select Cell$\\rightarrow$Run All).\n",
        "\n",
        "Make sure you fill in any place that says `YOUR CODE HERE` or \"YOUR ANSWER HERE\" below:"
      ]
    },
    {
      "cell_type": "code",
      "metadata": {
        "id": "-su2rlSV5XI1",
        "colab_type": "code",
        "colab": {}
      },
      "source": [
        "NAME = \"Kabini Salim Kumar\""
      ],
      "execution_count": 0,
      "outputs": []
    },
    {
      "cell_type": "markdown",
      "metadata": {
        "id": "68cturyT5XI7",
        "colab_type": "text"
      },
      "source": [
        "---"
      ]
    },
    {
      "cell_type": "markdown",
      "metadata": {
        "deletable": false,
        "editable": false,
        "nbgrader": {
          "cell_type": "markdown",
          "checksum": "78a822b052779b35ccfc9bbdba6ed1fa",
          "grade": false,
          "grade_id": "cell-1a02bff32a097b76",
          "locked": true,
          "schema_version": 3,
          "solution": false,
          "task": false
        },
        "id": "naz7U1Y35XI7",
        "colab_type": "text"
      },
      "source": [
        "As part of this assignment, we will be learning to model a  handwritten digit classifier using Multi-layer Neural Network. The model will be trained to classify the images of handwritten digits into 10 classes( digits 0 -9).\n",
        "We will be using [MNIST dataset of handwritten digits](http://yann.lecun.com/exdb/mnist/) for training the classifier.The dataset is a good example of real-world data and is widely used by Machine Learning community for learning techniques and pattern recognition methods.\n",
        "\n",
        "MNIST dataset contains grayscale samples of handwritten digits of size 28 $\\times$ 28. It is split into training set of 60,000 examples, and a test set of 10,000 examples. For this assignment, we will using a smaller subset of 1500 training samples, 500 validation samples and 1000 test samples."
      ]
    },
    {
      "cell_type": "markdown",
      "metadata": {
        "deletable": false,
        "editable": false,
        "nbgrader": {
          "cell_type": "markdown",
          "checksum": "e9ad732b79c383cf625527f65cc515e3",
          "grade": false,
          "grade_id": "cell-9ce83fefdb3ee268",
          "locked": true,
          "schema_version": 3,
          "solution": false,
          "task": false
        },
        "id": "oyzTMcfi5XI8",
        "colab_type": "text"
      },
      "source": [
        "# Libraries\n",
        "\n",
        "As first step, let us import the required datasets and libraries."
      ]
    },
    {
      "cell_type": "code",
      "metadata": {
        "deletable": false,
        "editable": false,
        "nbgrader": {
          "cell_type": "code",
          "checksum": "9a9b003832d58ae12e33880c29809261",
          "grade": false,
          "grade_id": "cell-d9bd60ff8a7a5aba",
          "locked": true,
          "schema_version": 3,
          "solution": false,
          "task": false
        },
        "id": "8asJAyV85XI8",
        "colab_type": "code",
        "colab": {}
      },
      "source": [
        "from datasets import mnist\n",
        "from matplotlib import pyplot as plt\n",
        "import numpy as np\n",
        "import numpy.testing as npt\n",
        "import pytest\n",
        "import random\n",
        "import numpy.matlib \n",
        "\n",
        "random.seed(1)\n",
        "np.random.seed(1)"
      ],
      "execution_count": 0,
      "outputs": []
    },
    {
      "cell_type": "code",
      "metadata": {
        "deletable": false,
        "editable": false,
        "nbgrader": {
          "cell_type": "code",
          "checksum": "110f3f6c3228bc50d31aa03c64112f3b",
          "grade": false,
          "grade_id": "cell-7e789c2d07d0df38",
          "locked": true,
          "schema_version": 3,
          "solution": false,
          "task": false
        },
        "id": "p6Wo1Pec5XI-",
        "colab_type": "code",
        "colab": {}
      },
      "source": [
        "train_samples = 1500\n",
        "val_samples = 500\n",
        "test_samples = 1000"
      ],
      "execution_count": 0,
      "outputs": []
    },
    {
      "cell_type": "code",
      "metadata": {
        "deletable": false,
        "editable": false,
        "nbgrader": {
          "cell_type": "code",
          "checksum": "891a4ea08076fdd3cb16a167705c9168",
          "grade": false,
          "grade_id": "cell-153e3e96f279c5f5",
          "locked": true,
          "schema_version": 3,
          "solution": false,
          "task": false
        },
        "id": "_ORkT0Hf5XJB",
        "colab_type": "code",
        "colab": {}
      },
      "source": [
        "digits = list(range(10))\n",
        "trX, trY, tsX, tsY, valX, valY = mnist(train_samples,val_samples,test_samples, digits=digits)"
      ],
      "execution_count": 0,
      "outputs": []
    },
    {
      "cell_type": "code",
      "metadata": {
        "id": "iCCA2qmg5XJD",
        "colab_type": "code",
        "colab": {}
      },
      "source": [
        ""
      ],
      "execution_count": 0,
      "outputs": []
    },
    {
      "cell_type": "markdown",
      "metadata": {
        "deletable": false,
        "editable": false,
        "nbgrader": {
          "cell_type": "markdown",
          "checksum": "7e78f3f2cfe29e9ea7d4df1c819907fa",
          "grade": false,
          "grade_id": "cell-77306ff2cf41f0a9",
          "locked": true,
          "schema_version": 3,
          "solution": false,
          "task": false
        },
        "id": "A444bXAi5XJF",
        "colab_type": "text"
      },
      "source": [
        "# Visualize images"
      ]
    },
    {
      "cell_type": "markdown",
      "metadata": {
        "deletable": false,
        "editable": false,
        "nbgrader": {
          "cell_type": "markdown",
          "checksum": "37a3d6c9d54d90b81e6e968726cc4d1e",
          "grade": false,
          "grade_id": "cell-2a78065ebe04febb",
          "locked": true,
          "schema_version": 3,
          "solution": false,
          "task": false
        },
        "id": "nrsyFp8K5XJF",
        "colab_type": "text"
      },
      "source": [
        "Let's visualize few samples and their labels from the train and test dataset. "
      ]
    },
    {
      "cell_type": "code",
      "metadata": {
        "deletable": false,
        "editable": false,
        "nbgrader": {
          "cell_type": "code",
          "checksum": "6745c14cbaaf32430f6879aa17cf210b",
          "grade": false,
          "grade_id": "cell-59ae07e5133951ec",
          "locked": true,
          "schema_version": 3,
          "solution": false,
          "task": false
        },
        "id": "pSRyb1XT5XJG",
        "colab_type": "code",
        "colab": {},
        "outputId": "5d1678a9-5ac2-4965-edec-82238a9a00a1"
      },
      "source": [
        "plt.imshow(trX[:,0].reshape(28,28))"
      ],
      "execution_count": 0,
      "outputs": [
        {
          "output_type": "execute_result",
          "data": {
            "text/plain": [
              "<matplotlib.image.AxesImage at 0x1840040ca20>"
            ]
          },
          "metadata": {
            "tags": []
          },
          "execution_count": 47
        },
        {
          "output_type": "display_data",
          "data": {
            "image/png": "[encoded data removed]",
            "text/plain": [
              "<Figure size 432x288 with 1 Axes>"
            ]
          },
          "metadata": {
            "tags": [],
            "needs_background": "light"
          }
        }
      ]
    },
    {
      "cell_type": "code",
      "metadata": {
        "deletable": false,
        "editable": false,
        "nbgrader": {
          "cell_type": "code",
          "checksum": "7e57bddc23bbae0ad2442536bd1c92b9",
          "grade": false,
          "grade_id": "cell-02ddd6a3385d6cba",
          "locked": true,
          "schema_version": 3,
          "solution": false,
          "task": false
        },
        "id": "7kuEVFKD5XJJ",
        "colab_type": "code",
        "colab": {},
        "outputId": "02d75287-67fb-4be6-a001-3842ae545e00"
      },
      "source": [
        "trY[:,0]"
      ],
      "execution_count": 0,
      "outputs": [
        {
          "output_type": "execute_result",
          "data": {
            "text/plain": [
              "array([8.])"
            ]
          },
          "metadata": {
            "tags": []
          },
          "execution_count": 48
        }
      ]
    },
    {
      "cell_type": "code",
      "metadata": {
        "deletable": false,
        "editable": false,
        "nbgrader": {
          "cell_type": "code",
          "checksum": "6d4b451acb56325deb6fe03500786cab",
          "grade": false,
          "grade_id": "cell-f7b6a0f5ffc42b7c",
          "locked": true,
          "schema_version": 3,
          "solution": false,
          "task": false
        },
        "id": "MazG657M5XJM",
        "colab_type": "code",
        "colab": {},
        "outputId": "741ea1ab-aa2e-4cec-808f-6d0ce8517dcc"
      },
      "source": [
        "plt.imshow(tsX[:,100].reshape(28,28))"
      ],
      "execution_count": 0,
      "outputs": [
        {
          "output_type": "execute_result",
          "data": {
            "text/plain": [
              "<matplotlib.image.AxesImage at 0x184008047b8>"
            ]
          },
          "metadata": {
            "tags": []
          },
          "execution_count": 49
        },
        {
          "output_type": "display_data",
          "data": {
            "image/png": "[encoded data removed]",
            "text/plain": [
              "<Figure size 432x288 with 1 Axes>"
            ]
          },
          "metadata": {
            "tags": [],
            "needs_background": "light"
          }
        }
      ]
    },
    {
      "cell_type": "code",
      "metadata": {
        "deletable": false,
        "editable": false,
        "nbgrader": {
          "cell_type": "code",
          "checksum": "d863265473c39235b56b636feef6c0d4",
          "grade": false,
          "grade_id": "cell-10dbdc9668e7e0aa",
          "locked": true,
          "schema_version": 3,
          "solution": false,
          "task": false
        },
        "id": "bapaoaGP5XJO",
        "colab_type": "code",
        "colab": {},
        "outputId": "6d3416b4-6a4f-4a82-dc4f-41f9c7f663b9"
      },
      "source": [
        "tsY[:,100]"
      ],
      "execution_count": 0,
      "outputs": [
        {
          "output_type": "execute_result",
          "data": {
            "text/plain": [
              "array([8.])"
            ]
          },
          "metadata": {
            "tags": []
          },
          "execution_count": 50
        }
      ]
    },
    {
      "cell_type": "code",
      "metadata": {
        "id": "OX1reu1K5XJQ",
        "colab_type": "code",
        "colab": {},
        "outputId": "be061879-9f03-472f-cb1e-a57e6d575a63"
      },
      "source": [
        "plt.imshow(valX[:,0].reshape(28,28))"
      ],
      "execution_count": 0,
      "outputs": [
        {
          "output_type": "execute_result",
          "data": {
            "text/plain": [
              "<matplotlib.image.AxesImage at 0x18400863d68>"
            ]
          },
          "metadata": {
            "tags": []
          },
          "execution_count": 51
        },
        {
          "output_type": "display_data",
          "data": {
            "image/png": "[encoded data removed]",
            "text/plain": [
              "<Figure size 432x288 with 1 Axes>"
            ]
          },
          "metadata": {
            "tags": [],
            "needs_background": "light"
          }
        }
      ]
    },
    {
      "cell_type": "code",
      "metadata": {
        "id": "TmplK85w5XJS",
        "colab_type": "code",
        "colab": {},
        "outputId": "e0d8e175-818f-4790-ee07-e8f1d21bd86c"
      },
      "source": [
        "valY[:,0]"
      ],
      "execution_count": 0,
      "outputs": [
        {
          "output_type": "execute_result",
          "data": {
            "text/plain": [
              "array([2.])"
            ]
          },
          "metadata": {
            "tags": []
          },
          "execution_count": 52
        }
      ]
    },
    {
      "cell_type": "markdown",
      "metadata": {
        "deletable": false,
        "editable": false,
        "nbgrader": {
          "cell_type": "markdown",
          "checksum": "1d4471bd13cba26906ba1a2eb6b198d3",
          "grade": false,
          "grade_id": "cell-e305de55136992d3",
          "locked": true,
          "schema_version": 3,
          "solution": false,
          "task": false
        },
        "id": "ILOIhkfX5XJU",
        "colab_type": "text"
      },
      "source": [
        "We can split the assignment into 3 sections.\n",
        "\n",
        "## Section 1  \n",
        "We will build the primary components of a Neural network. We will define the activation functions and their derivatives which will be used later during forward and backward propagation. We will also define Dropout for regularization. Finally We will define the softmax cross entropy loss for calculating the prediction loss.\n",
        "\n",
        "## Section 2\n",
        "In section 2, We will use the components from section 1 to define forward and back propagations. We will initially perform a single forward/backward pass and extend it to multi-layer network.\n",
        "\n",
        "## Section 3\n",
        "In the final section, We will assemble all the components into a single Neural Network as shown below. We will train the model to classify the images into 10 classes. \n"
      ]
    },
    {
      "cell_type": "markdown",
      "metadata": {
        "deletable": false,
        "editable": false,
        "nbgrader": {
          "cell_type": "markdown",
          "checksum": "99c1adec06edb95b5ca0ae8c4c6cd584",
          "grade": false,
          "grade_id": "cell-504361fa436fb08d",
          "locked": true,
          "schema_version": 3,
          "solution": false,
          "task": false
        },
        "id": "Bv0cwZve5XJV",
        "colab_type": "text"
      },
      "source": [
        "![Architechture](images/MLP_architechture.png)"
      ]
    },
    {
      "cell_type": "markdown",
      "metadata": {
        "deletable": false,
        "editable": false,
        "nbgrader": {
          "cell_type": "markdown",
          "checksum": "4937346aa47ec0474a6325f9a2d26f8b",
          "grade": false,
          "grade_id": "cell-517724a712cbaa66",
          "locked": true,
          "schema_version": 3,
          "solution": false,
          "task": false
        },
        "id": "wNLGe71o5XJV",
        "colab_type": "text"
      },
      "source": [
        "# Section 1"
      ]
    },
    {
      "cell_type": "markdown",
      "metadata": {
        "deletable": false,
        "editable": false,
        "nbgrader": {
          "cell_type": "markdown",
          "checksum": "e4275ca6898012f905062ebd1ee1622c",
          "grade": false,
          "grade_id": "cell-b4d083748aff2c7c",
          "locked": true,
          "schema_version": 3,
          "solution": false,
          "task": false
        },
        "id": "TryPMZxQ5XJV",
        "colab_type": "text"
      },
      "source": [
        "# Parameter Initialization (5 points)"
      ]
    },
    {
      "cell_type": "markdown",
      "metadata": {
        "deletable": false,
        "editable": false,
        "nbgrader": {
          "cell_type": "markdown",
          "checksum": "36ec8fbb7e909664ae9aec61c1da3146",
          "grade": false,
          "grade_id": "cell-2d445d2fe1bb530d",
          "locked": true,
          "schema_version": 3,
          "solution": false,
          "task": false
        },
        "id": "jqQpTqMT5XJW",
        "colab_type": "text"
      },
      "source": [
        "Let us now define a function that can initialize the parameters of the Neural Network.\n",
        "The network parameters are wrapped as dictionary elements that can easily be passed as function parameters while calculating gradients during back propogation.\n",
        "\n",
        "1. The weight matrix is initialized with random values from a normal distribution of variance $1$. For example, to create a matrix $W$ of dimension $3 \\times 4$, with values from a normal distribution with variance $1$,\n",
        "we define $W = np.random.normal(size =(3,4))$.\n",
        "\n",
        "2. Bias values are initialized with a vector of 0's.\n",
        "\n",
        "The dimension of weight matrix for a layer $(l+1)$ is given by ( Number of neurons in $(l+1)$  X  Number of neurons in $l$ )\n",
        "\n",
        "The dimension of bias vector for a layer $(l+1)$ is given by ( Number of neurons in $(l+1)$  X  Number of neurons in $1$ )"
      ]
    },
    {
      "cell_type": "code",
      "metadata": {
        "deletable": false,
        "nbgrader": {
          "cell_type": "code",
          "checksum": "33403341fbd4207cb88d4c25681fece8",
          "grade": false,
          "grade_id": "cell-e65e007fab5dfe94",
          "locked": false,
          "schema_version": 3,
          "solution": true,
          "task": false
        },
        "id": "MbRjQNzF5XJW",
        "colab_type": "code",
        "colab": {}
      },
      "source": [
        "def initialize(net_dims):\n",
        "    '''\n",
        "    Inputs:\n",
        "    \n",
        "    net_dims - Array containing the dimensions of the network. The values of the array represent the number of nodes in \n",
        "    each layer. For Example, if a Neural network contains 784 nodes in the input layer , 800 in the first hidden layer,\n",
        "     500 in the secound hidden layer and 10 in the output layer, then net_dims =[784,800,500,10]. \n",
        "    \n",
        "    Outputs:\n",
        "    parameters - Dictionary element for storing the Weights and bias of each layer of the network\n",
        "    '''\n",
        "    numLayers = len(net_dims)\n",
        "    parameters = {}\n",
        "    for l in range(numLayers-1):\n",
        "        # Hint:    \n",
        "        # parameters[\"W\"+str(l+1)] = \n",
        "        # parameters[\"b\"+str(l+1)] =\n",
        "        # YOUR CODE HERE\n",
        "\n",
        "        parameters[\"W\"+str(l+1)] = np.random.normal(size=(net_dims[l+1],net_dims[l]))\n",
        "        parameters[\"b\"+str(l+1)] = np.random.normal(size=(net_dims[l+1],1))\n",
        "#         raise NotImplementedError()\n",
        "    return parameters"
      ],
      "execution_count": 0,
      "outputs": []
    },
    {
      "cell_type": "code",
      "metadata": {
        "deletable": false,
        "editable": false,
        "nbgrader": {
          "cell_type": "code",
          "checksum": "adab134f9ae35918f9944e3d8c88402b",
          "grade": true,
          "grade_id": "test_case1_initialize",
          "locked": true,
          "points": 5,
          "schema_version": 3,
          "solution": false,
          "task": false
        },
        "id": "7is7dWr65XJY",
        "colab_type": "code",
        "colab": {}
      },
      "source": [
        "#Test \n",
        "net_dims_tst = [5,4,1]\n",
        "parameters_tst = initialize(net_dims_tst)\n",
        "assert parameters_tst['W1'].shape == (4,5)\n",
        "assert parameters_tst['b1'].shape == (4,1)\n"
      ],
      "execution_count": 0,
      "outputs": []
    },
    {
      "cell_type": "markdown",
      "metadata": {
        "deletable": false,
        "editable": false,
        "nbgrader": {
          "cell_type": "markdown",
          "checksum": "295b7033ac382e07cb9735d5ae2ba642",
          "grade": false,
          "grade_id": "cell-e77c10bfbde99f2c",
          "locked": true,
          "schema_version": 3,
          "solution": false,
          "task": false
        },
        "id": "n25CDBxh5XJd",
        "colab_type": "text"
      },
      "source": [
        "# Activation function"
      ]
    },
    {
      "cell_type": "markdown",
      "metadata": {
        "deletable": false,
        "editable": false,
        "nbgrader": {
          "cell_type": "markdown",
          "checksum": "8932856ef998dffe533aae104ca7ca83",
          "grade": false,
          "grade_id": "cell-1b4d8330f961f447",
          "locked": true,
          "schema_version": 3,
          "solution": false,
          "task": false
        },
        "id": "hZMjukZP5XJd",
        "colab_type": "text"
      },
      "source": [
        "As discussed in the lecture, An Activation function takes an input from the previous layer and performs a certain fixed mathematical operation and the result is passed to the following layer.\n",
        "1. ReLU or Rectified Linear Unit\n",
        "2. Linear activation"
      ]
    },
    {
      "cell_type": "markdown",
      "metadata": {
        "deletable": false,
        "editable": false,
        "nbgrader": {
          "cell_type": "markdown",
          "checksum": "098793bd6f778922d5b2654a4184e679",
          "grade": false,
          "grade_id": "cell-36f264bd171e66a2",
          "locked": true,
          "schema_version": 3,
          "solution": false,
          "task": false
        },
        "id": "797bmQEi5XJd",
        "colab_type": "text"
      },
      "source": [
        "## ReLU (Rectified Linear Unit) (5 points)\n",
        "\n",
        "ReLU (Rectified Linear Unit) is a piecewise linear function that will output the input if is positive, otherwise, it's output is zero.\n",
        "\n",
        "\\begin{equation*}\n",
        "ReLU(x) = Max(0,x)\n",
        "\\end{equation*}\n",
        "\n",
        "Hint: use [numpy.maximum](https://docs.scipy.org/doc/numpy/reference/generated/numpy.maximum.html)"
      ]
    },
    {
      "cell_type": "code",
      "metadata": {
        "deletable": false,
        "nbgrader": {
          "cell_type": "code",
          "checksum": "47dbfc98067f948a922df42b92cce49c",
          "grade": false,
          "grade_id": "cell-cef617bf7022bb68",
          "locked": false,
          "schema_version": 3,
          "solution": true,
          "task": false
        },
        "id": "7m3Vp4aZ5XJe",
        "colab_type": "code",
        "colab": {}
      },
      "source": [
        "def relu(Z):\n",
        "    '''\n",
        "    Computes relu activation of Z\n",
        "    \n",
        "    Inputs: \n",
        "        Z is a numpy.ndarray (n, m) which represent 'm' samples each of 'n' dimension\n",
        "        \n",
        "    Returns: \n",
        "        A is activation. numpy.ndarray (n, m) representing 'm' samples each of 'n' dimension\n",
        "        cache is a dictionary with {\"Z\", Z}\n",
        "        \n",
        "    '''\n",
        "    cache = {}\n",
        "    # YOUR CODE HERE\n",
        "    A = np.maximum(0,Z)\n",
        "    cache[\"Z\"] = Z\n",
        "#     raise NotImplementedError()\n",
        "    return A, cache"
      ],
      "execution_count": 0,
      "outputs": []
    },
    {
      "cell_type": "code",
      "metadata": {
        "deletable": false,
        "editable": false,
        "nbgrader": {
          "cell_type": "code",
          "checksum": "2101d17d365a68cb22333764c84bc039",
          "grade": true,
          "grade_id": "test_case2_relu",
          "locked": true,
          "points": 2,
          "schema_version": 3,
          "solution": false,
          "task": false
        },
        "id": "U2X542DA5XJg",
        "colab_type": "code",
        "colab": {}
      },
      "source": [
        "#Test\n",
        "z_tst = np.array([[-1,2],[3,-6]])\n",
        "a_tst, c_tst = relu(z_tst)\n",
        "npt.assert_array_equal(a_tst,[[0,2],[3,0]])\n",
        "assert (c_tst[\"Z\"] == np.array([[-1,2],[3,-6]])).all()\n"
      ],
      "execution_count": 0,
      "outputs": []
    },
    {
      "cell_type": "markdown",
      "metadata": {
        "deletable": false,
        "editable": false,
        "nbgrader": {
          "cell_type": "markdown",
          "checksum": "ca3454bc892ce52db8557ecd223a6a7d",
          "grade": false,
          "grade_id": "cell-9e69ac398fc920e4",
          "locked": true,
          "schema_version": 3,
          "solution": false,
          "task": false
        },
        "id": "ogzoG0C15XJh",
        "colab_type": "text"
      },
      "source": [
        "# ReLU - Gradient\n",
        "\n",
        "The gradient of ReLu is a simple unit function with output 0 for all values less than 0."
      ]
    },
    {
      "cell_type": "code",
      "metadata": {
        "deletable": false,
        "nbgrader": {
          "cell_type": "code",
          "checksum": "846a74f8cdab72958ecf59f64848a4fd",
          "grade": false,
          "grade_id": "cell-dfcfa7766ff3f088",
          "locked": false,
          "schema_version": 3,
          "solution": true,
          "task": false
        },
        "id": "JPwqemGL5XJi",
        "colab_type": "code",
        "colab": {}
      },
      "source": [
        "def relu_der(dA, cache):\n",
        "    '''\n",
        "    Computes derivative of relu activation\n",
        "    \n",
        "    Inputs: \n",
        "        dA is the derivative from the upstream layer with dimensions (n, m)\n",
        "        cache is a dictionary with {\"Z\", Z}, where Z was the input \n",
        "        to the activation layer during forward propagation\n",
        "        \n",
        "    Returns: \n",
        "        dZ is the derivative. numpy.ndarray (n,m)\n",
        "        \n",
        "    '''\n",
        "    dZ = np.array(dA, copy=True)\n",
        "    Z = cache[\"Z\"]\n",
        "    # YOUR CODE HERE\n",
        "#     dZ[dZ<0] = 0\n",
        "#     dZ[Z>0] = 1\n",
        "    dZ[Z<0] = 0\n",
        "#     raise NotImplementedError()\n",
        "    return dZ"
      ],
      "execution_count": 0,
      "outputs": []
    },
    {
      "cell_type": "code",
      "metadata": {
        "deletable": false,
        "editable": false,
        "nbgrader": {
          "cell_type": "code",
          "checksum": "3a58947362bba52e4d12d95977c897c7",
          "grade": true,
          "grade_id": "cell-7d037a6a7c05a13f",
          "locked": true,
          "points": 3,
          "schema_version": 3,
          "solution": false,
          "task": false
        },
        "id": "wvMs7LRc5XJk",
        "colab_type": "code",
        "colab": {}
      },
      "source": [
        "#Test`\n",
        "dA_tst = np.array([[-7,5],[2,-3]])\n",
        "cache_tst ={}\n",
        "cache_tst[\"Z\"] = np.array([[-1,1],[0,-3]])\n",
        "dZ_tst = relu_der(dA_tst,cache_tst)\n",
        "npt.assert_array_equal(dZ_tst,np.array([[0,5],[2,0]]))"
      ],
      "execution_count": 0,
      "outputs": []
    },
    {
      "cell_type": "markdown",
      "metadata": {
        "deletable": false,
        "editable": false,
        "nbgrader": {
          "cell_type": "markdown",
          "checksum": "5efb9e479d523be82946f9ae08c22300",
          "grade": false,
          "grade_id": "cell-c8886cbc2ede8019",
          "locked": true,
          "schema_version": 3,
          "solution": false,
          "task": false
        },
        "id": "mPAF-kPM5XJl",
        "colab_type": "text"
      },
      "source": [
        "## Linear\n",
        "\n",
        " Linear activation performs a simple linear operation of passing the input.\n",
        "\\begin{equation*}\n",
        "Linear(x) = x\\\\\n",
        "dx = 1\n",
        "\\end{equation*}"
      ]
    },
    {
      "cell_type": "code",
      "metadata": {
        "deletable": false,
        "editable": false,
        "nbgrader": {
          "cell_type": "code",
          "checksum": "b337b5337170e8d806cdb09836ec4f68",
          "grade": false,
          "grade_id": "cell-5c19d5fd5d97fb3e",
          "locked": true,
          "schema_version": 3,
          "solution": false,
          "task": false
        },
        "id": "j9xWyDCk5XJm",
        "colab_type": "code",
        "colab": {}
      },
      "source": [
        "def linear(Z):\n",
        "    '''\n",
        "    computes linear activation of Z\n",
        "    This function is implemented for completeness\n",
        "    Inputs: \n",
        "        Z is a numpy.ndarray (n, m)\n",
        "        \n",
        "    Returns: \n",
        "        A is activation. numpy.ndarray (n, m)\n",
        "        cache is a dictionary with {\"Z\", Z}   \n",
        "    '''\n",
        "    A = Z\n",
        "    cache = {}\n",
        "    cache[\"Z\"] = Z\n",
        "    return A, cache"
      ],
      "execution_count": 0,
      "outputs": []
    },
    {
      "cell_type": "code",
      "metadata": {
        "deletable": false,
        "editable": false,
        "nbgrader": {
          "cell_type": "code",
          "checksum": "58983c12564bf1d2e0e42c647272430a",
          "grade": false,
          "grade_id": "cell-f571cb53ebd8e3e9",
          "locked": true,
          "schema_version": 3,
          "solution": false,
          "task": false
        },
        "id": "ceqFUQsz5XJn",
        "colab_type": "code",
        "colab": {}
      },
      "source": [
        "def linear_der(dA, cache):\n",
        "    '''\n",
        "    Computes derivative of linear activation\n",
        "    This function is implemented for completeness\n",
        "    \n",
        "    Inputs: \n",
        "        dA is the derivative from subsequent layer. numpy.ndarray (n, m)\n",
        "        cache is a dictionary with {\"Z\", Z}, where Z was the input \n",
        "        to the activation layer during forward propagation\n",
        "    \n",
        "    Returns: \n",
        "        dZ is the derivative. numpy.ndarray (n,m)\n",
        "    '''      \n",
        "    dZ = np.array(dA, copy=True)\n",
        "    return dZ"
      ],
      "execution_count": 0,
      "outputs": []
    },
    {
      "cell_type": "markdown",
      "metadata": {
        "deletable": false,
        "editable": false,
        "nbgrader": {
          "cell_type": "markdown",
          "checksum": "1fbdbf3a30345d06f7139b53b8f38743",
          "grade": false,
          "grade_id": "cell-076c0de6c87fa8af",
          "locked": true,
          "schema_version": 3,
          "solution": false,
          "task": false
        },
        "id": "cnVgrQp05XJp",
        "colab_type": "text"
      },
      "source": [
        "# Loss function (10 Points)\n",
        "\n",
        "The softmax activation is computed on the outputs from the last layer and the output label with the maximum probablity is predicted as class label. The softmax function can also be refered as  normalized exponential function which takes a vector of $n$ real numbers as input, and normalizes it into a probability distribution consisting of $n$ probabilities proportional to the exponentials of the input numbers. \n",
        "\n",
        "The input to the softmax function is the matrix of all the samples, $ Z = [ z^{(1)} , z^{(2)}, \\ldots, z^{(m)} ] $, where $z^{(i)}$ is the $i^{th}$ sample of $n$ dimensions. We estimate the softmax for each of the samples $1$ to $m$. The softmax activation for $a^{(i)} = \\text{softmax}(z^{(i)})$ is, \n",
        "\\begin{equation}\n",
        "a_k{(i)} = \\frac{exp(z^{(i)}_k)}{\\sum_{k = 1}^{n}exp(z^{(i)}_k)} \\qquad \\text{for} \\quad 1\\leq k\\leq n\n",
        "\\end{equation}\n",
        "\n",
        "The output of the softmax is $ A = [ a^{(1)} , a^{(2)} .... a^{(m)} ]$, where $a^{(i)} = [a^{(i)}_1,a^{(i)}_2, \\ldots, a^{(i)}_n]^\\top$.  In order to avoid floating point overflow, we subtract a constant from all the input components of $z^{(i)}$ before calculating the softmax. This constant is $z_{max}$, where, $z_{max} = max(z_1,z_2,...z_n)$. \n",
        "Note: There is a change in notation from the lecture. In the lecture, we had $a^{(i)} = [a^{(i)}_0,a^{(i)}_1, \\ldots, a^{(i)}_K]^\\top$, but here we denote $a^{(i)} = [a^{(i)}_1,a^{(i)}_2, \\ldots, a^{(i)}_n]^\\top$. \n",
        "The activation is given by,\n",
        "\n",
        "\\begin{equation}\n",
        "a_k{(i)} = \\frac{exp(z^{(i)}_k- z_{max})}{\\sum_{k = 1}^{n}exp(z^{(i)}_k - z_{max})} \\qquad \\text{for} \\quad 1\\leq k\\leq n\n",
        "\\end{equation}\n",
        "\n",
        "If the output of softmax is given by $A$ and the ground truth is given by $Y = [ y^{(1)} , y^{(2)}, \\ldots, y^{(m)}]$, the cross entropy loss between the predictions $A$ and groundtruth labels $Y$ is given by,\n",
        "\n",
        "\\begin{equation}\n",
        "Loss(A,Y) = - \\frac{1}{m} \\sum_{i=1}^m \\sum_{k=1}^{n}I \\{ y^i = k \\} \\text{log}a_k^i\n",
        "\\end{equation}\n",
        "\n",
        "\n",
        "where $I$ is the identity function given by \n",
        "\n",
        "\\begin{equation}\n",
        "I\\{\\text{condition}\\} = 1, \\quad \\text{if condition = True}\\\\\n",
        "I\\{\\text{condition}\\} = 0, \\quad \\text{if condition = False}\\\\\n",
        "\\end{equation}\n",
        "Hint: use [numpy.exp](https://docs.scipy.org/doc/numpy/reference/generated/numpy.exp.html)\n",
        "numpy.max,\n",
        "[numpy.sum](https://docs.scipy.org/doc/numpy/reference/generated/numpy.sum.html)\n",
        "[numpy.log](https://docs.scipy.org/doc/numpy/reference/generated/numpy.log.html)\n",
        "Also refer to use of 'keepdims' and 'axis' parameter."
      ]
    },
    {
      "cell_type": "code",
      "metadata": {
        "deletable": false,
        "nbgrader": {
          "cell_type": "code",
          "checksum": "753f20cb12f4c799f30d802baf737dfc",
          "grade": false,
          "grade_id": "cell-2c4d26539c997506",
          "locked": false,
          "schema_version": 3,
          "solution": true,
          "task": false
        },
        "id": "kD07Rdr15XJp",
        "colab_type": "code",
        "colab": {}
      },
      "source": [
        "def softmax_cross_entropy_loss(Z, Y=np.array([])):\n",
        "    '''\n",
        "    Computes the softmax activation of the inputs Z\n",
        "    Estimates the cross entropy loss\n",
        "\n",
        "    Inputs: \n",
        "        Z - numpy.ndarray (n, m)\n",
        "        Y - numpy.ndarray (d, m) - labels in one-hot representation\n",
        "            when y=[] loss is set to []\n",
        "    \n",
        "    Returns:\n",
        "        A - numpy.ndarray (n, m) of softmax activations\n",
        "        cache -  a dictionary to store the activations later used to estimate derivatives\n",
        "        loss - cost of prediction\n",
        "    '''\n",
        "# YOUR CODE HERE\n",
        "#     raise NotImplementedError()\n",
        "    A = np.exp(Z - np.max(Z,axis = 0)) / np.sum(np.exp(Z-np.max(Z,axis = 0)),axis = 0)\n",
        "    m = A.shape[1]\n",
        "    if Y.shape[0] == 0:\n",
        "        loss = 0\n",
        "    else:\n",
        "        loss = -(1/ m) * np.sum(Y*np.log(A+ 1e-8))\n",
        "\n",
        "    cache = {}\n",
        "    cache[\"A\"] = A\n",
        "    return A, cache, loss"
      ],
      "execution_count": 0,
      "outputs": []
    },
    {
      "cell_type": "code",
      "metadata": {
        "deletable": false,
        "editable": false,
        "nbgrader": {
          "cell_type": "code",
          "checksum": "711547c3efef40b9bc56e6236395ce27",
          "grade": true,
          "grade_id": "test_case4_softmax",
          "locked": true,
          "points": 5,
          "schema_version": 3,
          "solution": false,
          "task": false
        },
        "id": "aTXCdKGc5XJs",
        "colab_type": "code",
        "colab": {}
      },
      "source": [
        "A_tst, _ ,_ = softmax_cross_entropy_loss(np.array([[-1,0,1],[2,1,-3]]))\n",
        "npt.assert_almost_equal(np.sum(A_tst),3,5)\n",
        "\n"
      ],
      "execution_count": 0,
      "outputs": []
    },
    {
      "cell_type": "markdown",
      "metadata": {
        "deletable": false,
        "editable": false,
        "nbgrader": {
          "cell_type": "markdown",
          "checksum": "39bd23a4115247b5b398e1ff34f3ef72",
          "grade": false,
          "grade_id": "cell-c0c8456041e2d2ea",
          "locked": true,
          "schema_version": 3,
          "solution": false,
          "task": false
        },
        "id": "y63PGwtA5XJu",
        "colab_type": "text"
      },
      "source": [
        "# One-hot representation\n",
        "\n",
        "One-hot encoding is a vector representation of the class labels, where all the elements of the vector, except the  class being represented, is zero. This representation will be used to identify the prediction label and calculate the loss of the network.\n",
        "\n",
        "\n",
        "Let the number of categories be $K=3$. Let ground truth labels be $Y = [0,2,1,0]$. Then the one-hot representation of $Y$ is \n",
        "\\begin{equation}\n",
        "\\bar{Y} = \n",
        "    \\begin{bmatrix}\n",
        "    1 ~ 0 ~ 0 ~ 1\\\\\n",
        "    0 ~ 0 ~ 1 ~ 0\\\\\n",
        "    0 ~ 1 ~ 0 ~ 0\n",
        "    \\end{bmatrix}\n",
        "\\end{equation}\n",
        "where, the one-hot encoding for label $y^{(1)} = 1$ is $\\bar{y}^{(1)} = [1, 0, 0]^\\top$. Similarly, the one-hot encoding for $y^{(2)} = 3$ is $\\bar{y}^{(2)} = [0, 0, 1]^\\top$"
      ]
    },
    {
      "cell_type": "code",
      "metadata": {
        "deletable": false,
        "editable": false,
        "nbgrader": {
          "cell_type": "code",
          "checksum": "7daa700985b7c41af2c1349fb4966c28",
          "grade": false,
          "grade_id": "cell-8d591ce79a731d94",
          "locked": true,
          "schema_version": 3,
          "solution": false,
          "task": false
        },
        "id": "JwfrApjP5XJu",
        "colab_type": "code",
        "colab": {}
      },
      "source": [
        "def one_hot(Y,num_classes):\n",
        "    '''\n",
        "    Return one hot vector for the lables\n",
        "\n",
        "    Inputs:\n",
        "        Y - Labels of dimension (1,m)\n",
        "        num_classes - Number of output classes\n",
        "        \n",
        "    Ouputs:\n",
        "        Y_one_hot - one hot vector of dimension(n_classes,m)\n",
        "    '''\n",
        "    Y_one_hot = np.zeros((num_classes,Y.shape[1]))\n",
        "    for i in range(Y.shape[1]):\n",
        "        Y_one_hot[int(Y[0,i]),i] = 1\n",
        "    return Y_one_hot"
      ],
      "execution_count": 0,
      "outputs": []
    },
    {
      "cell_type": "markdown",
      "metadata": {
        "deletable": false,
        "editable": false,
        "nbgrader": {
          "cell_type": "markdown",
          "checksum": "eab9c6fe6b7f5ab6d771d2c392a0cf8f",
          "grade": false,
          "grade_id": "cell-5151a9f9720ee789",
          "locked": true,
          "schema_version": 3,
          "solution": false,
          "task": false
        },
        "id": "2tkpcCR_5XJx",
        "colab_type": "text"
      },
      "source": [
        "# Derivative of the Loss Function(5 points)\n",
        "\n",
        "The derivative of the multiclass cross entropy loss can be given as the difference between the Activation output and ground truth. If $A$ is vector of $m$ samples , as $ A = [ a^{(1)} , a^{(2)} .... a^{(m)} ]$, the gradient of softmax is given by,\n",
        "\n",
        "\\begin{equation}\n",
        "dZ =\\frac{1}{m} (A -Y)\n",
        "\\end{equation}"
      ]
    },
    {
      "cell_type": "code",
      "metadata": {
        "deletable": false,
        "nbgrader": {
          "cell_type": "code",
          "checksum": "6dae974288ede73f2d8746b2ed5380ca",
          "grade": false,
          "grade_id": "cell-7af89efa4d354b07",
          "locked": false,
          "schema_version": 3,
          "solution": true,
          "task": false
        },
        "id": "nWFSQg215XJx",
        "colab_type": "code",
        "colab": {}
      },
      "source": [
        "def softmax_cross_entropy_loss_der(Y, cache):\n",
        "    '''\n",
        "    Computes the derivative of softmax activation and cross entropy loss\n",
        "\n",
        "    Inputs: \n",
        "        Y - numpy.ndarray (n,m) is a one-hot encoding of the ground truth labels\n",
        "        cache -  a dictionary with cached activations A of size (n,m)\n",
        "\n",
        "    Returns:\n",
        "        dZ - numpy.ndarray (n, m) derivative for the previous layer\n",
        "    '''\n",
        "    A = cache[\"A\"]\n",
        "# YOUR CODE HERE\n",
        "    A1 = np.subtract(A,Y)\n",
        "    m = Y.shape[1]\n",
        "    dZ = A1/m\n",
        "    \n",
        "# raise NotImplementedError()\n",
        "    return dZ"
      ],
      "execution_count": 0,
      "outputs": []
    },
    {
      "cell_type": "code",
      "metadata": {
        "deletable": false,
        "editable": false,
        "nbgrader": {
          "cell_type": "code",
          "checksum": "af1fd33dadb2df48e9ff76fbddb862ba",
          "grade": true,
          "grade_id": "test_case5_softmax_der",
          "locked": true,
          "points": 5,
          "schema_version": 3,
          "solution": false,
          "task": false
        },
        "id": "VIXBiKdB5XJz",
        "colab_type": "code",
        "colab": {}
      },
      "source": [
        "c_tst = {'A':np.array([[0.4,0.4],[0.6,0.6]])}\n",
        "Y_tst = np.array([[0,1],[1,0]])\n",
        "npt.assert_array_almost_equal(softmax_cross_entropy_loss_der(Y_tst, c_tst),np.array([[0.2,-0.3],[-0.2,0.3]]))\n",
        "\n"
      ],
      "execution_count": 0,
      "outputs": []
    },
    {
      "cell_type": "markdown",
      "metadata": {
        "id": "Y82Hqra15XJ1",
        "colab_type": "text"
      },
      "source": [
        "## Drop Out (5 Points)"
      ]
    },
    {
      "cell_type": "code",
      "metadata": {
        "deletable": false,
        "nbgrader": {
          "cell_type": "code",
          "checksum": "e1ae96c3281b8dd90414dfc91eb1190c",
          "grade": false,
          "grade_id": "cell-0fa31a4b61b6aedf",
          "locked": false,
          "schema_version": 3,
          "solution": true,
          "task": false
        },
        "id": "WzOLHkHW5XJ1",
        "colab_type": "code",
        "colab": {}
      },
      "source": [
        "def dropout_forward(A, drop_prob, mode='train'):\n",
        "        '''\n",
        "        Using the 'inverted dropout' technique to implement dropout regularization.\n",
        "        Inputs:\n",
        "                A - Activation matrix\n",
        "                drop_prob - the probability of dropping a neuron's activation. For e.g., let drop_prob = 0.8, \n",
        "                this implies that we drop 80% of the activations and keep only 20% of the activations. \n",
        "                We implement the mask using a uniform distribution \n",
        "                mask = np.random.rand(*A.shape) \n",
        "                This generates a matrix the same size as A but with random values in [0,1]\n",
        "                We now need to threshold the mask to keep 20% of its values. We can keep either the top 20% \n",
        "                or the bottom 20% - Both implementations are correct. The test case however checks for top 20%\n",
        "                For the test case to pass and not lose points, keep the top 20% of the values in mask \n",
        "                mask = np.random.rand(*A.shape) > drop_prob \n",
        "                You can now apply the mask on A and scale the values of A to account for \n",
        "                the dropped activations \n",
        "                \n",
        "                mode - Dropout acts differently in training and testing mode. Hence, mode is a parameter which\n",
        "                takes in only 2 values, 'train' or 'test'\n",
        "                \n",
        "                Example: Let A = [3 x 4] matrix and drop_prob = 0.8, then \n",
        "                A = [[4.17022005e-01 7.20324493e-01 1.14374817e-04 3.02332573e-01]\n",
        "                     [1.46755891e-01 9.23385948e-02 1.86260211e-01 3.45560727e-01]\n",
        "                     [3.96767474e-01 5.38816734e-01 4.19194514e-01 6.85219500e-01]]\n",
        "                mask = [[0 1 0 0]\n",
        "                        [0 0 0 0]\n",
        "                        [1 1 0 0]]\n",
        "                output = [[0.         3.60162247 0.         0.        ]\n",
        "                          [0.         0.         0.         0.        ]\n",
        "                          [1.98383737 2.69408367 0.         0.        ]]\n",
        "\n",
        "        Outputs:\n",
        "                out - Output of shape(n,m) same as input but with some values masked out.\n",
        "                cache - a tuple which stores the values that are required in the backward pass.\n",
        "        '''\n",
        "        mask = None\n",
        "        out = None\n",
        "        p_keep = 1-drop_prob\n",
        "        \n",
        "        if mode == 'train':\n",
        "# YOUR CODE HERE\n",
        "            mask = np.random.rand(A.shape[0],A.shape[1]) > drop_prob\n",
        "            out = A*mask\n",
        "            out = out/p_keep\n",
        "            \n",
        "            \n",
        "# raise NotImplementedError()\n",
        "        elif mode == 'test':\n",
        "            out = A\n",
        "# YOUR CODE HERE\n",
        "# raise NotImplementedError()\n",
        "        else:\n",
        "            raise ValueError(\"Mode value not set, set it to 'train' or 'test'\")\n",
        "            \n",
        "        \n",
        "        cache = (mode, mask)\n",
        "        out = out.astype(A.dtype, copy=False)\n",
        "        return out, cache"
      ],
      "execution_count": 0,
      "outputs": []
    },
    {
      "cell_type": "code",
      "metadata": {
        "deletable": false,
        "editable": false,
        "nbgrader": {
          "cell_type": "code",
          "checksum": "15d38c455a09203600d94d552d6848d5",
          "grade": true,
          "grade_id": "test_case_dropout",
          "locked": true,
          "points": 5,
          "schema_version": 3,
          "solution": false,
          "task": false
        },
        "id": "P4nlbyUy5XJ3",
        "colab_type": "code",
        "colab": {}
      },
      "source": [
        "random.seed(1)\n",
        "np.random.seed(1)\n",
        "\n",
        "x = np.random.rand(10,10)\n",
        "drop_prob = 0.2\n",
        "out, cache = dropout_forward(x, drop_prob, mode='train')\n",
        "npt.assert_almost_equal(np.sum(out),45.704208,6)\n",
        "\n",
        "out, cache = dropout_forward(x, drop_prob, mode='test')\n",
        "npt.assert_almost_equal(np.sum(out), 48.587792, 6)\n"
      ],
      "execution_count": 0,
      "outputs": []
    },
    {
      "cell_type": "code",
      "metadata": {
        "deletable": false,
        "nbgrader": {
          "cell_type": "code",
          "checksum": "6c761116ffb0a379358059c0ad956dc8",
          "grade": false,
          "grade_id": "cell-c724edbcb50ce841",
          "locked": false,
          "schema_version": 3,
          "solution": true,
          "task": false
        },
        "id": "I48ppAoN5XJ5",
        "colab_type": "code",
        "colab": {}
      },
      "source": [
        "def dropout_backward(cache, dout):\n",
        "        '''\n",
        "        Backward pass for the inverted dropout.\n",
        "        Inputs: \n",
        "              dout: derivatives from the upstream layers of dimension (n,m).\n",
        "              cache: contains the mask, input, and chosen dropout probability from the forward pass.\n",
        "        Outputs:\n",
        "              dA = derivative from the layer of dimension (n,m)\n",
        "        '''\n",
        "        dA = None\n",
        "        mode, mask = cache\n",
        "        if mode == 'train':\n",
        "            # YOUR CODE HERE\n",
        "            dA = dout * mask\n",
        "#             raise NotImplementedError()\n",
        "        elif mode == 'test':\n",
        "            # YOUR CODE HERE\n",
        "#             raise NotImplementedError()\n",
        "            dA = dout\n",
        "        else:\n",
        "            raise ValueError(\"Mode value not set, set it to 'train' or 'test'\")\n",
        "        return dA"
      ],
      "execution_count": 0,
      "outputs": []
    },
    {
      "cell_type": "code",
      "metadata": {
        "deletable": false,
        "editable": false,
        "nbgrader": {
          "cell_type": "code",
          "checksum": "807a039fad6d747f421eaa19ed4e4939",
          "grade": true,
          "grade_id": "cell-132946bbbfe2505e",
          "locked": true,
          "points": 5,
          "schema_version": 3,
          "solution": false,
          "task": false
        },
        "id": "r-NLP1Ct5XJ9",
        "colab_type": "code",
        "colab": {}
      },
      "source": [
        "np.random.seed(1)\n",
        "random.seed(1)\n",
        "\n",
        "dout = np.random.rand(3,2)\n",
        "mask = np.random.rand(3,2)\n",
        "mode = 'test'\n",
        "cache = (mode, mask)\n",
        "dA = dropout_backward(cache, dout)\n",
        "npt.assert_almost_equal(np.sum(dA),1.6788879311798277,6)\n",
        "\n",
        "mode = 'train'\n",
        "cache = (mode, mask)\n",
        "dA = dropout_backward(cache, dout)\n",
        "npt.assert_almost_equal(np.sum(dA),0.61432916214326,6)\n"
      ],
      "execution_count": 0,
      "outputs": []
    },
    {
      "cell_type": "markdown",
      "metadata": {
        "deletable": false,
        "editable": false,
        "nbgrader": {
          "cell_type": "markdown",
          "checksum": "3c834a6571465d1b6159bc22b290348f",
          "grade": false,
          "grade_id": "cell-e9465c382fdd4cfe",
          "locked": true,
          "schema_version": 3,
          "solution": false,
          "task": false
        },
        "id": "V2PiRuHc5XJ-",
        "colab_type": "text"
      },
      "source": [
        "# Section 2"
      ]
    },
    {
      "cell_type": "markdown",
      "metadata": {
        "deletable": false,
        "editable": false,
        "nbgrader": {
          "cell_type": "markdown",
          "checksum": "e410ee992a171c0777296bd92846fe73",
          "grade": false,
          "grade_id": "cell-36236b2868ecda30",
          "locked": true,
          "schema_version": 3,
          "solution": false,
          "task": false
        },
        "id": "o3BeAIot5XJ-",
        "colab_type": "text"
      },
      "source": [
        "## Forward Propagation "
      ]
    },
    {
      "cell_type": "markdown",
      "metadata": {
        "deletable": false,
        "editable": false,
        "nbgrader": {
          "cell_type": "markdown",
          "checksum": "b37d953967e745115023926ae69cd414",
          "grade": false,
          "grade_id": "cell-004fcac93e6f7ece",
          "locked": true,
          "schema_version": 3,
          "solution": false,
          "task": false
        },
        "id": "mpMBY2Pv5XJ_",
        "colab_type": "text"
      },
      "source": [
        "## One Layer\n",
        "  \n",
        "If the vectorized input to any layer of neural network is $A$ and the parameters of the layer is given by $(W,b)$ ,the output of the layer is,\n",
        "\\begin{equation}\n",
        "Z = W A + b\n",
        "\\end{equation}"
      ]
    },
    {
      "cell_type": "code",
      "metadata": {
        "deletable": false,
        "editable": false,
        "nbgrader": {
          "cell_type": "code",
          "checksum": "86a20cd5512aad02522142a334028ae9",
          "grade": false,
          "grade_id": "cell-8a69a105c7d1dd23",
          "locked": true,
          "schema_version": 3,
          "solution": false,
          "task": false
        },
        "id": "MnmPy52L5XJ_",
        "colab_type": "code",
        "colab": {}
      },
      "source": [
        "def linear_forward(A, W, b):\n",
        "    '''\n",
        "    Input A propagates through the layer \n",
        "    Z = WA + b is the output of this layer. \n",
        "\n",
        "    Inputs: \n",
        "        A - numpy.ndarray (n,m) the input to the layer\n",
        "        W - numpy.ndarray (n_out, n) the weights of the layer\n",
        "        b - numpy.ndarray (n_out, 1) the bias of the layer\n",
        "\n",
        "    Returns:\n",
        "        out = dropout(WA + b), where out is the numpy.ndarray (n_out, m) dimensions\n",
        "        cache - a dictionary containing the inputs A\n",
        "    '''\n",
        "    Z = np.dot(W, A) + b\n",
        "\n",
        "    cache = {}\n",
        "    cache[\"A\"] = A\n",
        "    return Z, cache "
      ],
      "execution_count": 0,
      "outputs": []
    },
    {
      "cell_type": "markdown",
      "metadata": {
        "deletable": false,
        "editable": false,
        "nbgrader": {
          "cell_type": "markdown",
          "checksum": "3735e8d3ff33792768fa9a89f8a3cfdc",
          "grade": false,
          "grade_id": "cell-3c463f4362ff9844",
          "locked": true,
          "schema_version": 3,
          "solution": false,
          "task": false
        },
        "id": "rxzFIWJo5XKB",
        "colab_type": "text"
      },
      "source": [
        "## Layer + Activation\n",
        "In addition to layer, the following function also computes the activation of each layer which is given by,\n",
        "\\begin{equation}\n",
        "Z = W X + b\\\\\n",
        "A = \\sigma (Z)\n",
        "\\end{equation}\n",
        "\n",
        "depending on the activation choosen for the given layer, the $\\sigma(.)$ can represent different operations.\n"
      ]
    },
    {
      "cell_type": "code",
      "metadata": {
        "deletable": false,
        "editable": false,
        "nbgrader": {
          "cell_type": "code",
          "checksum": "ae7871bd2f5513aa5668989240e6ee44",
          "grade": false,
          "grade_id": "cell-f70a31ac49d9bb4c",
          "locked": true,
          "schema_version": 3,
          "solution": false,
          "task": false
        },
        "id": "06iBbIk15XKB",
        "colab_type": "code",
        "colab": {}
      },
      "source": [
        "def layer_forward(A_prev, W, b, activation, drop_prob, mode):\n",
        "    '''\n",
        "    Input A_prev propagates through the layer and the activation\n",
        "\n",
        "    Inputs: \n",
        "        A_prev - numpy.ndarray (n,m) the input to the layer\n",
        "        W - numpy.ndarray (n_out, n) the weights of the layer\n",
        "        b - numpy.ndarray (n_out, 1) the bias of the layer\n",
        "        activation - is the string that specifies the activation function\n",
        "\n",
        "    Returns:\n",
        "        A = g(Z), where Z = WA + b, where Z is the numpy.ndarray (n_out, m) dimensions\n",
        "        g is the activation function\n",
        "        cache - a dictionary containing the cache from the linear and the nonlinear propagation\n",
        "        to be used for derivative\n",
        "    '''\n",
        "\n",
        "    Z, lin_cache = linear_forward(A_prev, W, b)\n",
        "    \n",
        "    if activation == \"relu\":\n",
        "        A, act_cache = relu(Z)\n",
        "        A, drop_cache =  dropout_forward(A, drop_prob, mode)\n",
        "        \n",
        "    elif activation == \"linear\":\n",
        "        A, act_cache = linear(Z)\n",
        "        drop_cache = None\n",
        "        \n",
        "\n",
        "    cache = {}\n",
        "    cache[\"lin_cache\"] = lin_cache\n",
        "    cache[\"act_cache\"] = act_cache\n",
        "    cache[\"drop_cache\"] = drop_cache\n",
        "    \n",
        "    return A, cache"
      ],
      "execution_count": 0,
      "outputs": []
    },
    {
      "cell_type": "markdown",
      "metadata": {
        "deletable": false,
        "editable": false,
        "nbgrader": {
          "cell_type": "markdown",
          "checksum": "2219461d7441672ff084a67aa7a95c12",
          "grade": false,
          "grade_id": "cell-243ec2c02ff1834c",
          "locked": true,
          "schema_version": 3,
          "solution": false,
          "task": false
        },
        "id": "beYzFBX55XKD",
        "colab_type": "text"
      },
      "source": [
        "## Multi-Layers (5 Points)\n",
        "\n",
        "The forward layers are stacked to form a multi layer network. The number of layers used by the network can be inferred from the size of the $parameters$. If the number of items in the dictionary element $parameters$ is $2L$, then the number of layers will be $L$\n",
        "\n",
        "During forward propagation , the input sample $A_0$ is fed into the first layer and the subsequent layers use the activation output from the previous layer as inputs.\n",
        "\n",
        "Please note all the hidden layers use **ReLU** activation except the last layer which uses **Linear** activation."
      ]
    },
    {
      "cell_type": "code",
      "metadata": {
        "deletable": false,
        "nbgrader": {
          "cell_type": "code",
          "checksum": "4fb64b38c9fc316daf85954310cf3e1d",
          "grade": false,
          "grade_id": "cell-40ada61852849730",
          "locked": false,
          "schema_version": 3,
          "solution": true,
          "task": false
        },
        "id": "O9dsyayY5XKD",
        "colab_type": "code",
        "colab": {}
      },
      "source": [
        "def multi_layer_forward(X, parameters,drop_prob, mode):\n",
        "    '''\n",
        "    Forward propgation through the layers of the network\n",
        "\n",
        "    Inputs: \n",
        "        X - numpy.ndarray (n,m) with n features and m samples\n",
        "        parameters - dictionary of network parameters {\"W1\":[..],\"b1\":[..],\"W2\":[..],\"b2\":[..]...}\n",
        "    Returns:\n",
        "        AL - numpy.ndarray (c,m)  - outputs of the last fully connected layer before softmax\n",
        "            where c is number of categories and m is number of samples in the batch\n",
        "        caches - a dictionary of associated caches of parameters and network inputs\n",
        "    '''\n",
        "    L = len(parameters)//2  \n",
        "    A = X\n",
        "    caches = []\n",
        "    \n",
        "    for l in range(1,L):\n",
        "    # YOUR CODE HERE\n",
        "#     raise NotImplementedError()\n",
        "        A, cache = layer_forward(A, parameters[\"W\"+str(l)], parameters[\"b\"+str(l)], \"relu\",drop_prob, mode)\n",
        "        caches.append(cache)\n",
        "        \n",
        "    \n",
        "    AL, cache = layer_forward(A, parameters[\"W\"+str(L)], parameters[\"b\"+str(L)], \"linear\",drop_prob, mode)\n",
        "    caches.append(cache)\n",
        "    return AL, caches"
      ],
      "execution_count": 0,
      "outputs": []
    },
    {
      "cell_type": "code",
      "metadata": {
        "deletable": false,
        "editable": false,
        "nbgrader": {
          "cell_type": "code",
          "checksum": "5acc1ee9041bb40e55ccbc7abddca04a",
          "grade": true,
          "grade_id": "test_case7_multilayer",
          "locked": true,
          "points": 5,
          "schema_version": 3,
          "solution": false,
          "task": false
        },
        "id": "DC3npoGb5XKF",
        "colab_type": "code",
        "colab": {}
      },
      "source": [
        "X_tst = np.array([[1,3,2,5],[2,4,-2,6]])\n",
        "param_tst ={'W1':[1,2],'b1':1}\n",
        "drop_prob = 0.33\n",
        "mode = 'test'\n",
        "AL_t,c_t= multi_layer_forward(X_tst, param_tst, drop_prob, mode)\n",
        "npt.assert_array_almost_equal(AL_t,np.array([ 6, 12, -1, 18]))\n"
      ],
      "execution_count": 0,
      "outputs": []
    },
    {
      "cell_type": "markdown",
      "metadata": {
        "deletable": false,
        "editable": false,
        "nbgrader": {
          "cell_type": "markdown",
          "checksum": "3abb3ca307284688bd338e4044a3206d",
          "grade": false,
          "grade_id": "cell-5281900868c84d39",
          "locked": true,
          "schema_version": 3,
          "solution": false,
          "task": false
        },
        "id": "C5fn4zXx5XKH",
        "colab_type": "text"
      },
      "source": [
        "# Backward Propagagtion (10 Points)\n",
        "\n",
        "Let us now perform back propagation through the layers and calculate the gradients of the network parameters $(dW,db)$.\n",
        "\n",
        "If the derivative of the loss$\\frac{dL}{dZ}$ is given as $dZ$ and network paramerters are given as $(W,b)$, the gradients $(dW,db)$ can be calculated as,\n",
        "\n",
        "\\begin{equation}\n",
        "dA_{prev} = W^T dZ\\\\\n",
        "dW = dZ A^T\\\\\n",
        "db = \\sum_{i=1}^{m} dz^{(i)}\\\\\n",
        "\\end{equation}\n",
        "\n",
        "where $dZ = [dz^{(1)},dz^{(2)}, \\ldots, dz^{(m)}]$ is the column vector of the gradient of loss in the kth layer."
      ]
    },
    {
      "cell_type": "code",
      "metadata": {
        "deletable": false,
        "nbgrader": {
          "cell_type": "code",
          "checksum": "144ce6f098a862cfc2fa51c53752f434",
          "grade": false,
          "grade_id": "cell-5ae7b7d7ae72810a",
          "locked": false,
          "schema_version": 3,
          "solution": true,
          "task": false
        },
        "id": "TI16D2Vp5XKH",
        "colab_type": "code",
        "colab": {}
      },
      "source": [
        "def linear_backward(dZ, cache, W, b):\n",
        "    '''\n",
        "    Backward prpagation through the linear layer\n",
        "\n",
        "    Inputs:\n",
        "        dZ - numpy.ndarray (n,m) derivative dL/dz \n",
        "        cache - a dictionary containing the inputs A, for the linear layer\n",
        "            where Z = WA + b,    \n",
        "            Z is (n,m); W is (n,p); A is (p,m); b is (n,1)\n",
        "        W - numpy.ndarray (n,p)\n",
        "        b - numpy.ndarray (n, 1)\n",
        "\n",
        "    Returns:\n",
        "        dA_prev - numpy.ndarray (p,m) the derivative to the previous layer\n",
        "        dW - numpy.ndarray (n,p) the gradient of W \n",
        "        db - numpy.ndarray (n, 1) the gradient of b\n",
        "    '''      \n",
        "    A = cache['A']\n",
        "    # YOUR CODE HERE\n",
        "#     raise NotImplementedError()\n",
        "    dW = np.dot(dZ, A.T)\n",
        "    db = np.sum(dZ, axis = 1, keepdims = True)\n",
        "    dA_prev = np.dot(W.T, dZ)\n",
        "    return dA_prev, dW, db"
      ],
      "execution_count": 0,
      "outputs": []
    },
    {
      "cell_type": "code",
      "metadata": {
        "deletable": false,
        "editable": false,
        "nbgrader": {
          "cell_type": "code",
          "checksum": "b68ff43cd04737f4a19c5dff8069c3b1",
          "grade": true,
          "grade_id": "cell-22a9c03f836d3b76",
          "locked": true,
          "points": 10,
          "schema_version": 3,
          "solution": false
        },
        "id": "c-1cS9Y35XKJ",
        "colab_type": "code",
        "colab": {}
      },
      "source": [
        "cache_test ={}\n",
        "A_tst = np.array([[1,3,2,5],[2,4,-2,6]])\n",
        "cache_test['A'] = A_tst\n",
        "W_tst = np.array([[3,2,1,-1],[1,3,1,3]])\n",
        "b_tst = np.array([1,1]).reshape(-1,1)\n",
        "dZ_tst = np.array([[0.1,0.3,0.1,.7],[.2,.3,0.3,.5]])\n",
        "\n",
        "dA_prev,dW_tst,db_tst = linear_backward(dZ_tst, cache_test, W_tst, b_tst)\n",
        "npt.assert_almost_equal(np.sum(dA_prev),16.4)\n",
        "npt.assert_array_almost_equal(dW_tst,np.array([[4.7, 5.4],[4.2, 4. ]]))\n",
        "npt.assert_array_almost_equal(db_tst,np.array([[1.2],[1.3]]))\n"
      ],
      "execution_count": 0,
      "outputs": []
    },
    {
      "cell_type": "markdown",
      "metadata": {
        "deletable": false,
        "editable": false,
        "nbgrader": {
          "cell_type": "markdown",
          "checksum": "f10dc38e0f1df8505608ac53c7ec3503",
          "grade": false,
          "grade_id": "cell-f57dc4108dd56c38",
          "locked": true,
          "schema_version": 3,
          "solution": false,
          "task": false
        },
        "id": "Mg3nhQc-5XKM",
        "colab_type": "text"
      },
      "source": [
        "## Layer + Activation\n",
        "\n",
        "In the below function, we also account for the activation while calculating the derivative.\n",
        "We use the derivative functions defined earlier to calculate $(\\frac{dL}{dZ})$ followed by back propagation."
      ]
    },
    {
      "cell_type": "code",
      "metadata": {
        "deletable": false,
        "editable": false,
        "nbgrader": {
          "cell_type": "code",
          "checksum": "b70a186450e315956bc74fa55033b9bf",
          "grade": false,
          "grade_id": "cell-9b7cfa89255f3e03",
          "locked": true,
          "schema_version": 3,
          "solution": false,
          "task": false
        },
        "id": "PydFb6qf5XKN",
        "colab_type": "code",
        "colab": {}
      },
      "source": [
        "def layer_backward(dA, cache, W, b, activation):\n",
        "    '''\n",
        "    Backward propagation through the activation and linear layer\n",
        "\n",
        "    Inputs:\n",
        "        dA - numpy.ndarray (n,m) the derivative to the previous layer\n",
        "        cache - dictionary containing the linear_cache and the activation_cache\n",
        "        activation - activation of the layer\n",
        "        W - numpy.ndarray (n,p)\n",
        "        b - numpy.ndarray (n, 1)\n",
        "    \n",
        "    Returns:\n",
        "        dA_prev - numpy.ndarray (p,m) the derivative to the previous layer\n",
        "        dW - numpy.ndarray (n,p) the gradient of W \n",
        "        db - numpy.ndarray (n, 1) the gradient of b\n",
        "    '''\n",
        "    lin_cache = cache[\"lin_cache\"]\n",
        "    act_cache = cache[\"act_cache\"]\n",
        "    drop_cache = cache[\"drop_cache\"]\n",
        "\n",
        "    if activation == \"relu\":\n",
        "        \n",
        "        dA = dropout_backward(drop_cache, dA)\n",
        "        dZ = relu_der(dA, act_cache)\n",
        "        \n",
        "    elif activation == \"linear\":\n",
        "        \n",
        "        dZ = linear_der(dA, act_cache)\n",
        "        \n",
        "    dA_prev, dW, db = linear_backward(dZ, lin_cache, W, b)\n",
        "    return dA_prev, dW, db"
      ],
      "execution_count": 0,
      "outputs": []
    },
    {
      "cell_type": "markdown",
      "metadata": {
        "deletable": false,
        "editable": false,
        "nbgrader": {
          "cell_type": "markdown",
          "checksum": "8472d5f6683479493cd030a9583d3c2e",
          "grade": false,
          "grade_id": "cell-72a9dc0cb265dc90",
          "locked": true,
          "schema_version": 3,
          "solution": false,
          "task": false
        },
        "id": "-nefLLKy5XKP",
        "colab_type": "text"
      },
      "source": [
        "## Multi-layers\n",
        "\n",
        "We have defined the required functions to handle back propagation for single layer. Now we will stack the layers together and perform back propagation on the entire network."
      ]
    },
    {
      "cell_type": "code",
      "metadata": {
        "deletable": false,
        "editable": false,
        "nbgrader": {
          "cell_type": "code",
          "checksum": "6f7f5d5b06322031e9efa80798fc51c7",
          "grade": false,
          "grade_id": "cell-8d2141e7c67dafa5",
          "locked": true,
          "schema_version": 3,
          "solution": false,
          "task": false
        },
        "id": "z6G3lV9D5XKP",
        "colab_type": "code",
        "colab": {}
      },
      "source": [
        "def multi_layer_backward(dAL, caches, parameters):\n",
        "    '''\n",
        "    Back propgation through the layers of the network (except softmax cross entropy)\n",
        "    softmax_cross_entropy can be handled separately\n",
        "\n",
        "    Inputs: \n",
        "        dAL - numpy.ndarray (n,m) derivatives from the softmax_cross_entropy layer\n",
        "        caches - a dictionary of associated caches of parameters and network inputs\n",
        "        parameters - dictionary of network parameters {\"W1\":[..],\"b1\":[..],\"W2\":[..],\"b2\":[..]...}\n",
        "\n",
        "    Returns:\n",
        "        gradients - dictionary of gradient of network parameters \n",
        "            {\"dW1\":[..],\"db1\":[..],\"dW2\":[..],\"db2\":[..],...}\n",
        "    '''\n",
        "\n",
        "    L = len(caches) \n",
        "    gradients = {}\n",
        "    dA = dAL\n",
        "    activation = \"linear\"\n",
        "    for l in reversed(range(1,L+1)):\n",
        "        dA, gradients[\"dW\"+str(l)], gradients[\"db\"+str(l)] = \\\n",
        "                    layer_backward(dA, caches[l-1], \\\n",
        "                    parameters[\"W\"+str(l)],parameters[\"b\"+str(l)],\\\n",
        "                    activation)\n",
        "        activation = \"relu\"\n",
        "    return gradients"
      ],
      "execution_count": 0,
      "outputs": []
    },
    {
      "cell_type": "markdown",
      "metadata": {
        "deletable": false,
        "editable": false,
        "nbgrader": {
          "cell_type": "markdown",
          "checksum": "7b46616906e65178bc046bf29b3f045f",
          "grade": false,
          "grade_id": "cell-66defde04ecba045",
          "locked": true,
          "schema_version": 3,
          "solution": false,
          "task": false
        },
        "id": "lOJvdgzR5XKT",
        "colab_type": "text"
      },
      "source": [
        "## Prediction (5 Points)\n",
        "\n",
        "Let us now assemble the different parts of forward propagation into a single unit and use the ouput to make a prediction.\n",
        "\n",
        "Step 1 - Forward propagate X using multi_layer_forward and obtain the activation 'A'.<br>\n",
        "Step 2 - Using 'softmax_cross_entropy loss', obtain softmax activation of last layer.<br>\n",
        "Step 3 - Class label 'Ypred' is predicted as the 'argmax' of the softmax activation from step 2.<br>\n",
        "Note: the shape of 'YPred' is (1,m), where m is the number of samples"
      ]
    },
    {
      "cell_type": "code",
      "metadata": {
        "deletable": false,
        "nbgrader": {
          "cell_type": "code",
          "checksum": "073c0fb32953510c6c55d1e859f04ff9",
          "grade": false,
          "grade_id": "cell-ffdb132c59706ff2",
          "locked": false,
          "schema_version": 3,
          "solution": true,
          "task": false
        },
        "id": "lGEU_rrS5XKT",
        "colab_type": "code",
        "colab": {}
      },
      "source": [
        "def classify(X, parameters,mode,drop_prob):\n",
        "    '''\n",
        "    Network prediction for inputs X\n",
        "\n",
        "    Inputs: \n",
        "        X - numpy.ndarray (n,m) with n features and m samples\n",
        "        parameters - dictionary of network parameters \n",
        "            {\"W1\":[..],\"b1\":[..],\"W2\":[..],\"b2\":[..],...}\n",
        "    Returns:\n",
        "        YPred - numpy.ndarray (1,m) of predictions\n",
        "    '''\n",
        "    # Forward propagate input 'X' using multi_layer_forward and obtain the activation 'A'\n",
        "    # Using 'softmax_cross_entropy loss', obtain softmax activation of last layer with input 'A' from step 1\n",
        "    # Predict class label 'YPred' as the 'argmax' of softmax activation from step-2. \n",
        "    # Note: the shape of 'YPred' is (1,m), where m is the number of samples\n",
        "\n",
        "    # YOUR CODE HERE\n",
        "#     raise NotImplementedError()\n",
        "#     x, n_samples = X.shape\n",
        "    A, caches = multi_layer_forward(X, parameters, drop_prob, mode)\n",
        "    Z, c, cost = softmax_cross_entropy_loss(A)\n",
        "#     YPred = [np.argmax(Z, axis=0)]\n",
        "    YPred = np.argmax(Z, axis =0)[np.newaxis,:]\n",
        "    \n",
        "    return YPred"
      ],
      "execution_count": 0,
      "outputs": []
    },
    {
      "cell_type": "code",
      "metadata": {
        "deletable": false,
        "editable": false,
        "nbgrader": {
          "cell_type": "code",
          "checksum": "3a0c20526bf4915b6c19e8cefcbef534",
          "grade": true,
          "grade_id": "test_case8_classify",
          "locked": true,
          "points": 5,
          "schema_version": 3,
          "solution": false,
          "task": false
        },
        "id": "beeuCaqO5XKX",
        "colab_type": "code",
        "colab": {}
      },
      "source": [
        "mode = 'train'\n",
        "drop_prob = 0.2\n",
        "X_tst = np.array([[-1,2,1],[1,1,3]])\n",
        "param_tst ={'W1':5,'b1':3}\n",
        "npt.assert_array_almost_equal(classify(X_tst, param_tst,mode,drop_prob),[[1,0,1]])\n"
      ],
      "execution_count": 0,
      "outputs": []
    },
    {
      "cell_type": "markdown",
      "metadata": {
        "id": "_6xeDK-G5XKa",
        "colab_type": "text"
      },
      "source": [
        "## Momentum\n",
        "\n",
        "A very popular technique that is used along with gradient descent is Momentum. Instead of using only the gradient of the current step to guide the search for minima, momentum also accumulates the gradient of the past steps to determine the direction of descent."
      ]
    },
    {
      "cell_type": "code",
      "metadata": {
        "id": "ObjzHh1G5XKa",
        "colab_type": "code",
        "colab": {}
      },
      "source": [
        "def initialize_velocity(parameters):\n",
        "    '''\n",
        "    Inputs:\n",
        "        parameters - The Weight and Bias parameters of the network\n",
        "        \n",
        "    Outputs:\n",
        "        v - velocity parameter\n",
        "    '''\n",
        "    \n",
        "    L = len(parameters) // 2 \n",
        "    v = {}\n",
        "    \n",
        "    # Initialize velocity\n",
        "    for l in range(L):\n",
        "        v[\"dW\" + str(l + 1)] = np.zeros_like(parameters[\"W\" + str(l+1)])\n",
        "        v[\"db\" + str(l + 1)] = np.zeros_like(parameters[\"b\" + str(l+1)])\n",
        "            \n",
        "    return v"
      ],
      "execution_count": 0,
      "outputs": []
    },
    {
      "cell_type": "markdown",
      "metadata": {
        "deletable": false,
        "editable": false,
        "nbgrader": {
          "cell_type": "markdown",
          "checksum": "0cbe913fb078bc8d945d29ea815db199",
          "grade": false,
          "grade_id": "cell-84af55196920d923",
          "locked": true,
          "schema_version": 3,
          "solution": false,
          "task": false
        },
        "id": "cakKuqdN5XKc",
        "colab_type": "text"
      },
      "source": [
        "## Parameter updates\n",
        "\n",
        "The parameter gradients $(dW,db)$ calculated during back propagation are used to update the values of the network parameters.\n",
        "\n",
        "\\begin{equation}\n",
        "V_{t+1} = \\beta  V_{t} +(1-\\beta)\\nabla J(\\theta_t)\\\\\n",
        "\\theta_{t+1} =\\theta_{t} -\\alpha(V_{t+1}), \\quad \\theta \\in \\{ W,b \\}\n",
        "\\end{equation}\n",
        "\n",
        "Where $\\alpha$ is the learning rate of the network and $\\beta$ is the momentum parameter . As discussed in the lecture, decay rate is used to adjust the learning rate smoothly across the gradient curve to avoid overshooting."
      ]
    },
    {
      "cell_type": "code",
      "metadata": {
        "deletable": false,
        "nbgrader": {
          "cell_type": "code",
          "checksum": "fe8297e38365b867978d37aefac224eb",
          "grade": false,
          "grade_id": "cell-749b76418a65d0a6",
          "locked": false,
          "schema_version": 3,
          "solution": true,
          "task": false
        },
        "id": "tyQScZlZ5XKd",
        "colab_type": "code",
        "colab": {}
      },
      "source": [
        "def update_parameters_with_momentum(parameters, gradients, epoch, v, beta, learning_rate, decay_rate=0.01):\n",
        "    '''\n",
        "    Updates the network parameters with gradient descent\n",
        "\n",
        "    Inputs:\n",
        "        parameters - dictionary of network parameters \n",
        "            {\"W1\":[..],\"b1\":[..],\"W2\":[..],\"b2\":[..],...}\n",
        "        gradients - dictionary of gradient of network parameters \n",
        "            {\"dW1\":[..],\"db1\":[..],\"dW2\":[..],\"db2\":[..],...}\n",
        "        epoch - epoch number\n",
        "        v - Velocity parameter\n",
        "        beta - momentum parameter\n",
        "        learning_rate - step size for learning\n",
        "        decay_rate - rate of decay of step size - not necessary - in case you want to use\n",
        "    '''\n",
        "    \n",
        "    alpha = learning_rate*(1/(1+decay_rate*epoch))\n",
        "    L = len(parameters) // 2 # number of layers in the neural networks\n",
        "    \n",
        "    for i in range(L):\n",
        "    # YOUR CODE HERE\n",
        "#     raise NotImplementedError()\n",
        "        \n",
        "        # velocity\n",
        "        v['dW' + str(i+1)] = (beta * v['dW' + str(i+1)]) + ((1 - beta) * gradients['dW' + str(i+1)])\n",
        "        v['db' + str(i+1)] = (beta * v['db' + str(i+1)]) + ((1 - beta) * gradients['db' + str(i+1)])\n",
        "        \n",
        "        # update parameters\n",
        "        parameters['W' + str(i+1)] = parameters['W' + str(i+1)] - (alpha * v['dW' + str(i+1)])\n",
        "        parameters['b' + str(i+1)] = parameters['b' + str(i+1)] - (alpha * v['db' + str(i+1)])             \n",
        "       \n",
        "    return parameters, alpha, v"
      ],
      "execution_count": 0,
      "outputs": []
    },
    {
      "cell_type": "code",
      "metadata": {
        "deletable": false,
        "editable": false,
        "nbgrader": {
          "cell_type": "code",
          "checksum": "1d46f0f23bd969a5dad123312384aec5",
          "grade": true,
          "grade_id": "test_case9_backprop",
          "locked": true,
          "points": 10,
          "schema_version": 3,
          "solution": false,
          "task": false
        },
        "id": "F7sMOks75XKf",
        "colab_type": "code",
        "colab": {}
      },
      "source": [
        "X_tst = [1,3,5,7]\n",
        "param_tst ={'W1':5,'b1':7,'W2':2,'b2':3}\n",
        "grad_tst ={'dW1':1,'db1':2,'dW2':-1,'db2':3}\n",
        "epoch_tst = 1\n",
        "v = {'dW1':1,'db1':1,'dW2':1,'db2':1}\n",
        "learning_rate_tst = 1\n",
        "decay_rate = 0.01\n",
        "beta = 0.2\n",
        "\n",
        "param_tst, al_tst, v_tst = update_parameters_with_momentum(param_tst, grad_tst, epoch_tst, v, beta, learning_rate_tst, decay_rate)\n",
        "\n",
        "assert param_tst == {'W1': pytest.approx(4.009, 0.01), 'b1': pytest.approx(5.217, 0.01), 'W2': pytest.approx(2.594, 0.01), 'b2': pytest.approx(0.425, 0.01)}\n"
      ],
      "execution_count": 0,
      "outputs": []
    },
    {
      "cell_type": "markdown",
      "metadata": {
        "deletable": false,
        "editable": false,
        "nbgrader": {
          "cell_type": "markdown",
          "checksum": "484a27b0805a92d1e9b6511285d19e6b",
          "grade": false,
          "grade_id": "cell-35b5f7dedb40b1ef",
          "locked": true,
          "schema_version": 3,
          "solution": false,
          "task": false
        },
        "id": "q1eMZG8N5XKh",
        "colab_type": "text"
      },
      "source": [
        "# Section 3"
      ]
    },
    {
      "cell_type": "markdown",
      "metadata": {
        "deletable": false,
        "editable": false,
        "nbgrader": {
          "cell_type": "markdown",
          "checksum": "842387a2365d1593405fed154fe50522",
          "grade": false,
          "grade_id": "cell-76abe4d415a1f55e",
          "locked": true,
          "schema_version": 3,
          "solution": false,
          "task": false
        },
        "id": "pMTsErTn5XKi",
        "colab_type": "text"
      },
      "source": [
        "# Neural Network (10 Points)\n",
        "\n",
        "Let us now assemble all the components of the neural network together and define a complete training loop for the Multi-layer Neural Network."
      ]
    },
    {
      "cell_type": "code",
      "metadata": {
        "deletable": false,
        "nbgrader": {
          "cell_type": "code",
          "checksum": "7b281179f19312d8feee4414a5296b93",
          "grade": false,
          "grade_id": "cell-f58ffc97952c7586",
          "locked": false,
          "schema_version": 3,
          "solution": true,
          "task": false
        },
        "id": "ScNofeO-5XKi",
        "colab_type": "code",
        "colab": {}
      },
      "source": [
        "def multi_layer_network(X, Y,valX, valY, net_dims, drop_prob, mode, num_iterations=500, learning_rate=0.2, decay_rate=0.00005):\n",
        "    \n",
        "    '''\n",
        "    Creates the multilayer network and trains the network\n",
        "\n",
        "    Inputs:\n",
        "        X - numpy.ndarray (n,m) of training data\n",
        "        Y - numpy.ndarray (1,m) of training data labels\n",
        "        valX - numpy.ndarray(n,m) of validation data\n",
        "        valY - numpy.ndarray(1,m) of validation data labels\n",
        "        net_dims - tuple of layer dimensions\n",
        "        drop_prob - dropout parameter, we drop the number of neurons in a given layer with respect to prob.\n",
        "        mode - Takes in 2 values 'train' or 'test' mode. Model behaviour is dependent on the mode.\n",
        "        num_iterations - num of epochs to train\n",
        "        learning_rate - step size for gradient descent\n",
        "        decay_rate - the rate at which the learning rate is decayed.\n",
        "        \n",
        "    Returns:\n",
        "        costs - list of costs over training\n",
        "        val_costs - list of validation costs over training\n",
        "        parameters - dictionary of trained network parameters\n",
        "    '''\n",
        "\n",
        "    parameters = initialize(net_dims)\n",
        "    A0 = X\n",
        "    costs = []\n",
        "    val_costs = []\n",
        "    num_classes = 10\n",
        "    Y_one_hot = one_hot(Y,num_classes)\n",
        "    valY_one_hot = one_hot(valY,num_classes)\n",
        "    alpha = learning_rate\n",
        "    beta = 0.9\n",
        "    for ii in range(num_iterations):\n",
        "        \n",
        "        ## Forward Propagation (Training data)\n",
        "        # Step 1: Propagate the input A0 through the layers using multi_layer_forward()\n",
        "        # and calculate output of last layer Z and obtain cached activations as 'cache_1'\n",
        "        # Step 2: Compute the softmax activation AL, cross entropy cost and obtain the cached activation of last layer cache_2 using\n",
        "        # 'Z' from step 1 and 'Y_one_hot' (one hot representation of true class label)\n",
        "       \n",
        "        ## Back Propagation (with training data)\n",
        "        # Step 3: Compute the dervative of the softmax cross entropy loss (dZ) using one-hot encoded class labels 'Y_one_hot'\n",
        "        # and the cached activations cache_2 from forward pass.\n",
        "        # Step 4: Compute the parameter 'gradients' by passing dZ (from step 3) and cache1 from forward_pass to multi_layer_backward()\n",
        "        # Step 5: Initialize the velocity parameter by passing 'parameters' to 'initialize_velocity()'\n",
        "        # Step 6: Update the parameters of the network and obtain learning rate(alpha) by passing the calculated gradients to update_parameters_with_momentum() function.\n",
        "       \n",
        "        ## Forward Propagation (validation data only to estimate the loss)\n",
        "        # Step 7: Propagate the input valX through the layers using multi_layer_forward() with 'mode' ='test'\n",
        "        # and calculate output of last layer Z_ and obtain cached activations as 'cache_'\n",
        "        # Step 8: Compute the softmax activation AL, cross entropy cost for the validation set\n",
        "        # using 'Z_' from step 7 and 'valY_one_hot' (one hot representation of true class label)    \n",
        "        \n",
        "        # step 1 and 2\n",
        "        Z, cache_1 = multi_layer_forward(A0, parameters, drop_prob, \"train\")\n",
        "        AL, cache_2, cost =  softmax_cross_entropy_loss(Z, Y_one_hot)\n",
        "        \n",
        "        # step 3\n",
        "        dZ = softmax_cross_entropy_loss_der(Y_one_hot, cache_2)\n",
        "        \n",
        "        gradients = multi_layer_backward(dZ, cache_1, parameters)\n",
        "        velocity = initialize_velocity(parameters)\n",
        "        parameters, alpha, velocity = update_parameters_with_momentum(parameters, gradients, ii, velocity, beta, learning_rate, decay_rate)\n",
        "        \n",
        "        \n",
        "        # step 7\n",
        "        Z_, cache_ = multi_layer_forward(valX, parameters, drop_prob, \"test\")\n",
        "        AL, cache, val_cost = softmax_cross_entropy_loss(Z_, valY_one_hot)\n",
        "\n",
        "        \n",
        "    \n",
        "# YOUR CODE HERE\n",
        "# raise NotImplementedError()\n",
        "    \n",
        "        if ii % 10 == 0:\n",
        "            costs.append(cost)\n",
        "            val_costs.append(val_cost)\n",
        "        if ii % 10 == 0:\n",
        "            print(\"Cost at iteration %i is: %.05f, learning rate: %.05f\" %(ii, cost, alpha))\n",
        "    \n",
        "    return costs, val_costs, parameters"
      ],
      "execution_count": 0,
      "outputs": []
    },
    {
      "cell_type": "code",
      "metadata": {
        "deletable": false,
        "editable": false,
        "nbgrader": {
          "cell_type": "code",
          "checksum": "7beb4d4a7c5fafe868bde17f67f47efd",
          "grade": true,
          "grade_id": "test_case10_complete",
          "locked": true,
          "points": 10,
          "schema_version": 3,
          "solution": false,
          "task": false
        },
        "id": "bVi773Mo5XKk",
        "colab_type": "code",
        "colab": {}
      },
      "source": [
        ""
      ],
      "execution_count": 0,
      "outputs": []
    },
    {
      "cell_type": "markdown",
      "metadata": {
        "deletable": false,
        "editable": false,
        "nbgrader": {
          "cell_type": "markdown",
          "checksum": "43881a69e2334a62c8077d01335391ae",
          "grade": false,
          "grade_id": "cell-f44aae42add8fd84",
          "locked": true,
          "schema_version": 3,
          "solution": false,
          "task": false
        },
        "id": "I5MtfEFY5XKl",
        "colab_type": "text"
      },
      "source": [
        "# Training\n",
        "We will now intialize a neural network with 2 hidden layers whose dimensions are 516 and 256 respectively.\n",
        "Since the input samples are of dimension 28 $\\times$ 28, the input layer will be of dimension 784. We will train the model and compute its accuracy on training, validation and test sets. Finally the training and validation cost is plotted against the number of iterations."
      ]
    },
    {
      "cell_type": "code",
      "metadata": {
        "deletable": false,
        "editable": false,
        "nbgrader": {
          "cell_type": "code",
          "checksum": "680094c4b85da263dfdb482ecd84b50c",
          "grade": false,
          "grade_id": "cell-870d6e0d01da6a52",
          "locked": true,
          "schema_version": 3,
          "solution": false,
          "task": false
        },
        "id": "Z8uEPlXO5XKm",
        "colab_type": "code",
        "colab": {},
        "outputId": "f2d521e8-9505-4c28-d1f3-6677268cc82a"
      },
      "source": [
        "# Configuration 1 - Overfittting case, No dropout regularization\n",
        "\n",
        "net_dims = [784,516,256]\n",
        "net_dims.append(10) # Adding the digits layer with dimensionality = 10\n",
        "print(\"Network dimensions are:\" + str(net_dims))\n",
        "\n",
        "# getting the subset dataset from MNIST\n",
        "train_data, train_label, test_data, test_label, val_data, val_label = mnist(noTrSamples=train_samples,noValSamples= val_samples,noTsSamples=test_samples,digits= digits)\n",
        "\n",
        "# initialize learning rate and num_iterations\n",
        "learning_rate = .03\n",
        "num_iterations = 500\n",
        "\n",
        "drop_prob = 0\n",
        "mode = 'train'\n",
        "\n",
        "costs,val_costs, parameters = multi_layer_network(train_data, train_label,val_data, val_label, net_dims, drop_prob, mode, \\\n",
        "        num_iterations=num_iterations, learning_rate= learning_rate)\n",
        "\n",
        "# compute the accuracy for training set and testing set\n",
        "\n",
        "\n",
        "mode ='test'\n",
        "train_Pred = classify(train_data, parameters,mode,drop_prob)\n",
        "val_Pred = classify(val_data, parameters,mode,drop_prob)\n",
        "test_Pred = classify(test_data, parameters,mode,drop_prob)\n",
        "print(train_Pred.shape)\n",
        "\n",
        "\n",
        "trAcc = ( 1 - np.count_nonzero(train_Pred - train_label ) / float(train_Pred.shape[1])) * 100 \n",
        "valAcc = ( 1 - np.count_nonzero(val_Pred - val_label ) / float(val_Pred.shape[1])) * 100 \n",
        "teAcc = ( 1 - np.count_nonzero(test_Pred - test_label ) / float(test_Pred.shape[1]) ) * 100\n",
        "print(\"Accuracy for training set is {0:0.3f} %\".format(trAcc))\n",
        "print(\"Accuracy for validation set is {0:0.3f} %\".format(valAcc))\n",
        "print(\"Accuracy for testing set is {0:0.3f} %\".format(teAcc))\n",
        "\n",
        "X = range(0,num_iterations,10)\n",
        "plt.plot(X,costs)\n",
        "plt.plot(X,val_costs)\n",
        "plt.xlabel(\"Iterations\")\n",
        "plt.ylabel(\"Cost\")\n",
        "plt.legend(['Training','Validation'])\n",
        "plt.show()"
      ],
      "execution_count": 0,
      "outputs": [
        {
          "output_type": "stream",
          "text": [
            "Network dimensions are:[784, 516, 256, 10]\n",
            "Cost at iteration 0 is: 16.44092, learning rate: 0.03000\n",
            "Cost at iteration 10 is: 9.14074, learning rate: 0.02999\n",
            "Cost at iteration 20 is: 6.12378, learning rate: 0.02997\n",
            "Cost at iteration 30 is: 4.58501, learning rate: 0.02996\n",
            "Cost at iteration 40 is: 3.98217, learning rate: 0.02994\n",
            "Cost at iteration 50 is: 3.07436, learning rate: 0.02993\n",
            "Cost at iteration 60 is: 2.77897, learning rate: 0.02991\n",
            "Cost at iteration 70 is: 2.54394, learning rate: 0.02990\n",
            "Cost at iteration 80 is: 2.00899, learning rate: 0.02988\n",
            "Cost at iteration 90 is: 2.11923, learning rate: 0.02987\n",
            "Cost at iteration 100 is: 1.60138, learning rate: 0.02985\n",
            "Cost at iteration 110 is: 1.42522, learning rate: 0.02984\n",
            "Cost at iteration 120 is: 1.12390, learning rate: 0.02982\n",
            "Cost at iteration 130 is: 0.89688, learning rate: 0.02981\n",
            "Cost at iteration 140 is: 0.66384, learning rate: 0.02979\n",
            "Cost at iteration 150 is: 0.62585, learning rate: 0.02978\n",
            "Cost at iteration 160 is: 0.62542, learning rate: 0.02976\n",
            "Cost at iteration 170 is: 0.42272, learning rate: 0.02975\n",
            "Cost at iteration 180 is: 0.39182, learning rate: 0.02973\n",
            "Cost at iteration 190 is: 0.22246, learning rate: 0.02972\n",
            "Cost at iteration 200 is: 0.26477, learning rate: 0.02970\n",
            "Cost at iteration 210 is: 0.49197, learning rate: 0.02969\n",
            "Cost at iteration 220 is: 0.24476, learning rate: 0.02967\n",
            "Cost at iteration 230 is: 0.09434, learning rate: 0.02966\n",
            "Cost at iteration 240 is: 0.17310, learning rate: 0.02964\n",
            "Cost at iteration 250 is: 0.05606, learning rate: 0.02963\n",
            "Cost at iteration 260 is: 0.05557, learning rate: 0.02962\n",
            "Cost at iteration 270 is: 0.03083, learning rate: 0.02960\n",
            "Cost at iteration 280 is: 0.02492, learning rate: 0.02959\n",
            "Cost at iteration 290 is: 0.01340, learning rate: 0.02957\n",
            "Cost at iteration 300 is: 0.00287, learning rate: 0.02956\n",
            "Cost at iteration 310 is: 0.00004, learning rate: 0.02954\n",
            "Cost at iteration 320 is: 0.00003, learning rate: 0.02953\n",
            "Cost at iteration 330 is: 0.00003, learning rate: 0.02951\n",
            "Cost at iteration 340 is: 0.00002, learning rate: 0.02950\n",
            "Cost at iteration 350 is: 0.00002, learning rate: 0.02948\n",
            "Cost at iteration 360 is: 0.00002, learning rate: 0.02947\n",
            "Cost at iteration 370 is: 0.00002, learning rate: 0.02946\n",
            "Cost at iteration 380 is: 0.00001, learning rate: 0.02944\n",
            "Cost at iteration 390 is: 0.00001, learning rate: 0.02943\n",
            "Cost at iteration 400 is: 0.00001, learning rate: 0.02941\n",
            "Cost at iteration 410 is: 0.00001, learning rate: 0.02940\n",
            "Cost at iteration 420 is: 0.00001, learning rate: 0.02938\n",
            "Cost at iteration 430 is: 0.00001, learning rate: 0.02937\n",
            "Cost at iteration 440 is: 0.00001, learning rate: 0.02935\n",
            "Cost at iteration 450 is: 0.00001, learning rate: 0.02934\n",
            "Cost at iteration 460 is: 0.00001, learning rate: 0.02933\n",
            "Cost at iteration 470 is: 0.00001, learning rate: 0.02931\n",
            "Cost at iteration 480 is: 0.00001, learning rate: 0.02930\n",
            "Cost at iteration 490 is: 0.00001, learning rate: 0.02928\n",
            "(1, 1500)\n",
            "Accuracy for training set is 100.000 %\n",
            "Accuracy for validation set is 71.400 %\n",
            "Accuracy for testing set is 74.400 %\n"
          ],
          "name": "stdout"
        },
        {
          "output_type": "display_data",
          "data": {
            "image/png": "[encoded data removed]",
            "text/plain": [
              "<Figure size 432x288 with 1 Axes>"
            ]
          },
          "metadata": {
            "tags": [],
            "needs_background": "light"
          }
        }
      ]
    },
    {
      "cell_type": "code",
      "metadata": {
        "deletable": false,
        "editable": false,
        "nbgrader": {
          "cell_type": "code",
          "checksum": "34c8bbc638f2ad1a82f04b5a7cd64574",
          "grade": false,
          "grade_id": "cell-d498cd08a0612eaa",
          "locked": true,
          "schema_version": 3,
          "solution": false,
          "task": false
        },
        "id": "iY1QfJ-55XKn",
        "colab_type": "code",
        "colab": {},
        "outputId": "08a2021e-b5a1-44f1-8e26-0b4731e05d60"
      },
      "source": [
        "# Configuration 2 - using dropout regularization\n",
        "\n",
        "net_dims = [784,516,256]\n",
        "net_dims.append(10) # Adding the digits layer with dimensionality = 10\n",
        "print(\"Network dimensions are:\" + str(net_dims))\n",
        "\n",
        "# getting the subset dataset from MNIST\n",
        "train_data, train_label, test_data, test_label, val_data, val_label = mnist(noTrSamples=train_samples,noValSamples= val_samples,noTsSamples=test_samples,digits= digits)\n",
        "\n",
        "# initialize learning rate and num_iterations\n",
        "learning_rate = .03\n",
        "num_iterations = 500\n",
        "\n",
        "drop_prob = 0.2\n",
        "mode = 'train'\n",
        "\n",
        "costs,val_costs, parameters = multi_layer_network(train_data, train_label,val_data, val_label, net_dims, drop_prob, mode, \\\n",
        "        num_iterations=num_iterations, learning_rate= learning_rate)\n",
        "\n",
        "# compute the accuracy for training set and testing set\n",
        "mode ='test'\n",
        "train_Pred = classify(train_data, parameters,mode,drop_prob)\n",
        "val_Pred = classify(val_data, parameters,mode,drop_prob)\n",
        "test_Pred = classify(test_data, parameters,mode,drop_prob)\n",
        "print(train_Pred.shape)\n",
        "\n",
        "\n",
        "trAcc = ( 1 - np.count_nonzero(train_Pred - train_label ) / float(train_Pred.shape[1])) * 100 \n",
        "valAcc = ( 1 - np.count_nonzero(val_Pred - val_label ) / float(val_Pred.shape[1])) * 100 \n",
        "teAcc = ( 1 - np.count_nonzero(test_Pred - test_label ) / float(test_Pred.shape[1]) ) * 100\n",
        "print(\"Accuracy for training set is {0:0.3f} %\".format(trAcc))\n",
        "print(\"Accuracy for validation set is {0:0.3f} %\".format(valAcc))\n",
        "print(\"Accuracy for testing set is {0:0.3f} %\".format(teAcc))\n",
        "\n",
        "X = range(0,num_iterations,10)\n",
        "plt.plot(X,costs)\n",
        "plt.plot(X,val_costs)\n",
        "plt.xlabel(\"Iterations\")\n",
        "plt.ylabel(\"Cost\")\n",
        "plt.legend(['Training','Validation'])\n",
        "plt.show()"
      ],
      "execution_count": 0,
      "outputs": [
        {
          "output_type": "stream",
          "text": [
            "Network dimensions are:[784, 516, 256, 10]\n",
            "Cost at iteration 0 is: 16.45173, learning rate: 0.03000\n",
            "Cost at iteration 10 is: 13.50530, learning rate: 0.02999\n",
            "Cost at iteration 20 is: 11.09141, learning rate: 0.02997\n",
            "Cost at iteration 30 is: 9.76420, learning rate: 0.02996\n",
            "Cost at iteration 40 is: 8.58557, learning rate: 0.02994\n",
            "Cost at iteration 50 is: 7.93578, learning rate: 0.02993\n",
            "Cost at iteration 60 is: 6.95323, learning rate: 0.02991\n",
            "Cost at iteration 70 is: 6.69439, learning rate: 0.02990\n",
            "Cost at iteration 80 is: 6.37866, learning rate: 0.02988\n",
            "Cost at iteration 90 is: 6.02311, learning rate: 0.02987\n",
            "Cost at iteration 100 is: 5.83892, learning rate: 0.02985\n",
            "Cost at iteration 110 is: 5.67112, learning rate: 0.02984\n",
            "Cost at iteration 120 is: 5.49267, learning rate: 0.02982\n",
            "Cost at iteration 130 is: 5.36420, learning rate: 0.02981\n",
            "Cost at iteration 140 is: 5.48759, learning rate: 0.02979\n",
            "Cost at iteration 150 is: 5.06116, learning rate: 0.02978\n",
            "Cost at iteration 160 is: 5.11133, learning rate: 0.02976\n",
            "Cost at iteration 170 is: 4.77699, learning rate: 0.02975\n",
            "Cost at iteration 180 is: 4.67055, learning rate: 0.02973\n",
            "Cost at iteration 190 is: 4.75728, learning rate: 0.02972\n",
            "Cost at iteration 200 is: 4.31762, learning rate: 0.02970\n",
            "Cost at iteration 210 is: 4.47608, learning rate: 0.02969\n",
            "Cost at iteration 220 is: 3.97524, learning rate: 0.02967\n",
            "Cost at iteration 230 is: 4.25579, learning rate: 0.02966\n",
            "Cost at iteration 240 is: 4.32563, learning rate: 0.02964\n",
            "Cost at iteration 250 is: 3.81044, learning rate: 0.02963\n",
            "Cost at iteration 260 is: 3.90045, learning rate: 0.02962\n",
            "Cost at iteration 270 is: 3.91990, learning rate: 0.02960\n",
            "Cost at iteration 280 is: 3.88113, learning rate: 0.02959\n",
            "Cost at iteration 290 is: 4.09307, learning rate: 0.02957\n",
            "Cost at iteration 300 is: 3.57653, learning rate: 0.02956\n",
            "Cost at iteration 310 is: 3.54901, learning rate: 0.02954\n",
            "Cost at iteration 320 is: 3.81787, learning rate: 0.02953\n",
            "Cost at iteration 330 is: 4.03383, learning rate: 0.02951\n",
            "Cost at iteration 340 is: 3.23822, learning rate: 0.02950\n",
            "Cost at iteration 350 is: 3.52086, learning rate: 0.02948\n",
            "Cost at iteration 360 is: 3.71398, learning rate: 0.02947\n",
            "Cost at iteration 370 is: 3.09936, learning rate: 0.02946\n",
            "Cost at iteration 380 is: 3.24733, learning rate: 0.02944\n",
            "Cost at iteration 390 is: 3.32828, learning rate: 0.02943\n",
            "Cost at iteration 400 is: 3.25721, learning rate: 0.02941\n",
            "Cost at iteration 410 is: 3.20088, learning rate: 0.02940\n",
            "Cost at iteration 420 is: 3.26424, learning rate: 0.02938\n",
            "Cost at iteration 430 is: 2.99983, learning rate: 0.02937\n",
            "Cost at iteration 440 is: 3.14350, learning rate: 0.02935\n",
            "Cost at iteration 450 is: 2.72527, learning rate: 0.02934\n",
            "Cost at iteration 460 is: 3.20696, learning rate: 0.02933\n",
            "Cost at iteration 470 is: 3.00611, learning rate: 0.02931\n",
            "Cost at iteration 480 is: 3.11401, learning rate: 0.02930\n",
            "Cost at iteration 490 is: 3.13075, learning rate: 0.02928\n",
            "(1, 1500)\n",
            "Accuracy for training set is 96.400 %\n",
            "Accuracy for validation set is 88.800 %\n",
            "Accuracy for testing set is 87.500 %\n"
          ],
          "name": "stdout"
        },
        {
          "output_type": "display_data",
          "data": {
            "image/png": "[encoded data removed]",
            "text/plain": [
              "<Figure size 432x288 with 1 Axes>"
            ]
          },
          "metadata": {
            "tags": [],
            "needs_background": "light"
          }
        }
      ]
    },
    {
      "cell_type": "code",
      "metadata": {
        "id": "4tn5c8oP5XK0",
        "colab_type": "code",
        "colab": {}
      },
      "source": [
        ""
      ],
      "execution_count": 0,
      "outputs": []
    }
  ]
}